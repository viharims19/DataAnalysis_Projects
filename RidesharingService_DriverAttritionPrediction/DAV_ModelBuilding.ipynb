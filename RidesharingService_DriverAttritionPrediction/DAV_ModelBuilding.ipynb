{
  "cells": [
    {
      "cell_type": "markdown",
      "id": "a7a90c0d",
      "metadata": {
        "id": "a7a90c0d"
      },
      "source": [
        "## Problem Statement"
      ]
    },
    {
      "cell_type": "markdown",
      "id": "cf7bbe94",
      "metadata": {
        "id": "cf7bbe94"
      },
      "source": [
        "-  A leading ride-sharing platform faces churn rate of its drivers as the constant challenge and seeking actions to be taken in ensuring driver loyalty and reducing attrition as they are crucial to the company's operation.\n",
        "- Exploratory Data Analysis done and utilized DecisionTree,RandomForest and xgboost algorithms to understand factors affecting the possibility of employees/drivers leaving the oraganization and predict the churn_probabilities of drivers.\n",
        "- Insights and Recommendations provided that help the company to retain the existing working employees"
      ]
    },
    {
      "cell_type": "markdown",
      "id": "c9752bfa",
      "metadata": {
        "id": "c9752bfa"
      },
      "source": [
        "## Importing Libaries and Dataset"
      ]
    },
    {
      "cell_type": "code",
      "execution_count": 3,
      "id": "0cd97d2a",
      "metadata": {
        "id": "0cd97d2a"
      },
      "outputs": [],
      "source": [
        "# Data Analysis and Visualization\n",
        "import numpy as np\n",
        "import pandas as pd\n",
        "import matplotlib.pyplot as plt\n",
        "import seaborn as sns\n",
        "import warnings\n",
        "warnings.simplefilter('ignore')\n",
        "# Null Values Handing\n",
        "from sklearn.impute import KNNImputer\n",
        "# Model Building\n",
        "from sklearn.preprocessing import MinMaxScaler\n",
        "from sklearn.model_selection import train_test_split, GridSearchCV\n",
        "from sklearn.tree import DecisionTreeClassifier\n",
        "from sklearn.utils import class_weight\n",
        "from sklearn.ensemble import RandomForestClassifier\n",
        "import xgboost as xgb\n",
        "\n",
        "# Checking Model Performance\n",
        "from sklearn.metrics import classification_report, accuracy_score, confusion_matrix, ConfusionMatrixDisplay,roc_auc_score,roc_curve"
      ]
    },
    {
      "cell_type": "code",
      "execution_count": 4,
      "id": "0ae43ae7",
      "metadata": {
        "colab": {
          "base_uri": "https://localhost:8080/",
          "height": 206
        },
        "id": "0ae43ae7",
        "outputId": "082bc0c2-b481-4efc-cbd9-86dfd51fb23a"
      },
      "outputs": [
        {
          "data": {
            "text/html": [
              "<div>\n",
              "<style scoped>\n",
              "    .dataframe tbody tr th:only-of-type {\n",
              "        vertical-align: middle;\n",
              "    }\n",
              "\n",
              "    .dataframe tbody tr th {\n",
              "        vertical-align: top;\n",
              "    }\n",
              "\n",
              "    .dataframe thead th {\n",
              "        text-align: right;\n",
              "    }\n",
              "</style>\n",
              "<table border=\"1\" class=\"dataframe\">\n",
              "  <thead>\n",
              "    <tr style=\"text-align: right;\">\n",
              "      <th></th>\n",
              "      <th>Unnamed: 0</th>\n",
              "      <th>MMM-YY</th>\n",
              "      <th>Driver_ID</th>\n",
              "      <th>Age</th>\n",
              "      <th>Gender</th>\n",
              "      <th>City</th>\n",
              "      <th>Education_Level</th>\n",
              "      <th>Income</th>\n",
              "      <th>Dateofjoining</th>\n",
              "      <th>LastWorkingDate</th>\n",
              "      <th>Joining Designation</th>\n",
              "      <th>Grade</th>\n",
              "      <th>Total Business Value</th>\n",
              "      <th>Quarterly Rating</th>\n",
              "    </tr>\n",
              "  </thead>\n",
              "  <tbody>\n",
              "    <tr>\n",
              "      <th>0</th>\n",
              "      <td>0</td>\n",
              "      <td>01/01/19</td>\n",
              "      <td>1</td>\n",
              "      <td>28.0</td>\n",
              "      <td>0.0</td>\n",
              "      <td>C23</td>\n",
              "      <td>2</td>\n",
              "      <td>57387</td>\n",
              "      <td>24/12/18</td>\n",
              "      <td>NaN</td>\n",
              "      <td>1</td>\n",
              "      <td>1</td>\n",
              "      <td>2381060</td>\n",
              "      <td>2</td>\n",
              "    </tr>\n",
              "    <tr>\n",
              "      <th>1</th>\n",
              "      <td>1</td>\n",
              "      <td>02/01/19</td>\n",
              "      <td>1</td>\n",
              "      <td>28.0</td>\n",
              "      <td>0.0</td>\n",
              "      <td>C23</td>\n",
              "      <td>2</td>\n",
              "      <td>57387</td>\n",
              "      <td>24/12/18</td>\n",
              "      <td>NaN</td>\n",
              "      <td>1</td>\n",
              "      <td>1</td>\n",
              "      <td>-665480</td>\n",
              "      <td>2</td>\n",
              "    </tr>\n",
              "    <tr>\n",
              "      <th>2</th>\n",
              "      <td>2</td>\n",
              "      <td>03/01/19</td>\n",
              "      <td>1</td>\n",
              "      <td>28.0</td>\n",
              "      <td>0.0</td>\n",
              "      <td>C23</td>\n",
              "      <td>2</td>\n",
              "      <td>57387</td>\n",
              "      <td>24/12/18</td>\n",
              "      <td>03/11/19</td>\n",
              "      <td>1</td>\n",
              "      <td>1</td>\n",
              "      <td>0</td>\n",
              "      <td>2</td>\n",
              "    </tr>\n",
              "    <tr>\n",
              "      <th>3</th>\n",
              "      <td>3</td>\n",
              "      <td>11/01/20</td>\n",
              "      <td>2</td>\n",
              "      <td>31.0</td>\n",
              "      <td>0.0</td>\n",
              "      <td>C7</td>\n",
              "      <td>2</td>\n",
              "      <td>67016</td>\n",
              "      <td>11/06/20</td>\n",
              "      <td>NaN</td>\n",
              "      <td>2</td>\n",
              "      <td>2</td>\n",
              "      <td>0</td>\n",
              "      <td>1</td>\n",
              "    </tr>\n",
              "    <tr>\n",
              "      <th>4</th>\n",
              "      <td>4</td>\n",
              "      <td>12/01/20</td>\n",
              "      <td>2</td>\n",
              "      <td>31.0</td>\n",
              "      <td>0.0</td>\n",
              "      <td>C7</td>\n",
              "      <td>2</td>\n",
              "      <td>67016</td>\n",
              "      <td>11/06/20</td>\n",
              "      <td>NaN</td>\n",
              "      <td>2</td>\n",
              "      <td>2</td>\n",
              "      <td>0</td>\n",
              "      <td>1</td>\n",
              "    </tr>\n",
              "  </tbody>\n",
              "</table>\n",
              "</div>"
            ],
            "text/plain": [
              "   Unnamed: 0    MMM-YY  Driver_ID   Age  Gender City  Education_Level  \\\n",
              "0           0  01/01/19          1  28.0     0.0  C23                2   \n",
              "1           1  02/01/19          1  28.0     0.0  C23                2   \n",
              "2           2  03/01/19          1  28.0     0.0  C23                2   \n",
              "3           3  11/01/20          2  31.0     0.0   C7                2   \n",
              "4           4  12/01/20          2  31.0     0.0   C7                2   \n",
              "\n",
              "   Income Dateofjoining LastWorkingDate  Joining Designation  Grade  \\\n",
              "0   57387      24/12/18             NaN                    1      1   \n",
              "1   57387      24/12/18             NaN                    1      1   \n",
              "2   57387      24/12/18        03/11/19                    1      1   \n",
              "3   67016      11/06/20             NaN                    2      2   \n",
              "4   67016      11/06/20             NaN                    2      2   \n",
              "\n",
              "   Total Business Value  Quarterly Rating  \n",
              "0               2381060                 2  \n",
              "1               -665480                 2  \n",
              "2                     0                 2  \n",
              "3                     0                 1  \n",
              "4                     0                 1  "
            ]
          },
          "execution_count": 4,
          "metadata": {},
          "output_type": "execute_result"
        }
      ],
      "source": [
        "odi_df = pd.read_csv('data/driver_attrition.csv')\n",
        "odi_df.head()"
      ]
    },
    {
      "cell_type": "code",
      "execution_count": 5,
      "id": "b689c628",
      "metadata": {
        "id": "b689c628",
        "outputId": "cc99df33-5a41-4e03-ce53-6dc5c9497ac5"
      },
      "outputs": [
        {
          "data": {
            "text/html": [
              "<div>\n",
              "<style scoped>\n",
              "    .dataframe tbody tr th:only-of-type {\n",
              "        vertical-align: middle;\n",
              "    }\n",
              "\n",
              "    .dataframe tbody tr th {\n",
              "        vertical-align: top;\n",
              "    }\n",
              "\n",
              "    .dataframe thead th {\n",
              "        text-align: right;\n",
              "    }\n",
              "</style>\n",
              "<table border=\"1\" class=\"dataframe\">\n",
              "  <thead>\n",
              "    <tr style=\"text-align: right;\">\n",
              "      <th></th>\n",
              "      <th>MMM-YY</th>\n",
              "      <th>Driver_ID</th>\n",
              "      <th>Age</th>\n",
              "      <th>Gender</th>\n",
              "      <th>City</th>\n",
              "      <th>Education_Level</th>\n",
              "      <th>Income</th>\n",
              "      <th>Dateofjoining</th>\n",
              "      <th>LastWorkingDate</th>\n",
              "      <th>Joining Designation</th>\n",
              "      <th>Grade</th>\n",
              "      <th>Total Business Value</th>\n",
              "      <th>Quarterly Rating</th>\n",
              "    </tr>\n",
              "  </thead>\n",
              "  <tbody>\n",
              "    <tr>\n",
              "      <th>0</th>\n",
              "      <td>01/01/19</td>\n",
              "      <td>1</td>\n",
              "      <td>28.0</td>\n",
              "      <td>0.0</td>\n",
              "      <td>C23</td>\n",
              "      <td>2</td>\n",
              "      <td>57387</td>\n",
              "      <td>24/12/18</td>\n",
              "      <td>NaN</td>\n",
              "      <td>1</td>\n",
              "      <td>1</td>\n",
              "      <td>2381060</td>\n",
              "      <td>2</td>\n",
              "    </tr>\n",
              "    <tr>\n",
              "      <th>1</th>\n",
              "      <td>02/01/19</td>\n",
              "      <td>1</td>\n",
              "      <td>28.0</td>\n",
              "      <td>0.0</td>\n",
              "      <td>C23</td>\n",
              "      <td>2</td>\n",
              "      <td>57387</td>\n",
              "      <td>24/12/18</td>\n",
              "      <td>NaN</td>\n",
              "      <td>1</td>\n",
              "      <td>1</td>\n",
              "      <td>-665480</td>\n",
              "      <td>2</td>\n",
              "    </tr>\n",
              "    <tr>\n",
              "      <th>2</th>\n",
              "      <td>03/01/19</td>\n",
              "      <td>1</td>\n",
              "      <td>28.0</td>\n",
              "      <td>0.0</td>\n",
              "      <td>C23</td>\n",
              "      <td>2</td>\n",
              "      <td>57387</td>\n",
              "      <td>24/12/18</td>\n",
              "      <td>03/11/19</td>\n",
              "      <td>1</td>\n",
              "      <td>1</td>\n",
              "      <td>0</td>\n",
              "      <td>2</td>\n",
              "    </tr>\n",
              "    <tr>\n",
              "      <th>3</th>\n",
              "      <td>11/01/20</td>\n",
              "      <td>2</td>\n",
              "      <td>31.0</td>\n",
              "      <td>0.0</td>\n",
              "      <td>C7</td>\n",
              "      <td>2</td>\n",
              "      <td>67016</td>\n",
              "      <td>11/06/20</td>\n",
              "      <td>NaN</td>\n",
              "      <td>2</td>\n",
              "      <td>2</td>\n",
              "      <td>0</td>\n",
              "      <td>1</td>\n",
              "    </tr>\n",
              "    <tr>\n",
              "      <th>4</th>\n",
              "      <td>12/01/20</td>\n",
              "      <td>2</td>\n",
              "      <td>31.0</td>\n",
              "      <td>0.0</td>\n",
              "      <td>C7</td>\n",
              "      <td>2</td>\n",
              "      <td>67016</td>\n",
              "      <td>11/06/20</td>\n",
              "      <td>NaN</td>\n",
              "      <td>2</td>\n",
              "      <td>2</td>\n",
              "      <td>0</td>\n",
              "      <td>1</td>\n",
              "    </tr>\n",
              "  </tbody>\n",
              "</table>\n",
              "</div>"
            ],
            "text/plain": [
              "     MMM-YY  Driver_ID   Age  Gender City  Education_Level  Income  \\\n",
              "0  01/01/19          1  28.0     0.0  C23                2   57387   \n",
              "1  02/01/19          1  28.0     0.0  C23                2   57387   \n",
              "2  03/01/19          1  28.0     0.0  C23                2   57387   \n",
              "3  11/01/20          2  31.0     0.0   C7                2   67016   \n",
              "4  12/01/20          2  31.0     0.0   C7                2   67016   \n",
              "\n",
              "  Dateofjoining LastWorkingDate  Joining Designation  Grade  \\\n",
              "0      24/12/18             NaN                    1      1   \n",
              "1      24/12/18             NaN                    1      1   \n",
              "2      24/12/18        03/11/19                    1      1   \n",
              "3      11/06/20             NaN                    2      2   \n",
              "4      11/06/20             NaN                    2      2   \n",
              "\n",
              "   Total Business Value  Quarterly Rating  \n",
              "0               2381060                 2  \n",
              "1               -665480                 2  \n",
              "2                     0                 2  \n",
              "3                     0                 1  \n",
              "4                     0                 1  "
            ]
          },
          "execution_count": 5,
          "metadata": {},
          "output_type": "execute_result"
        }
      ],
      "source": [
        "# Removing Unnamed:0 column\n",
        "odi_df = odi_df.drop('Unnamed: 0',axis=1)\n",
        "odi_df.head()"
      ]
    },
    {
      "cell_type": "markdown",
      "id": "016a9cff",
      "metadata": {
        "id": "016a9cff"
      },
      "source": [
        "## Basic Metrics"
      ]
    },
    {
      "cell_type": "code",
      "execution_count": 6,
      "id": "cdc9b345",
      "metadata": {
        "id": "cdc9b345",
        "outputId": "0104b298-fa51-4670-ffb0-c4afe965ac30"
      },
      "outputs": [
        {
          "data": {
            "text/plain": [
              "(19104, 13)"
            ]
          },
          "execution_count": 6,
          "metadata": {},
          "output_type": "execute_result"
        }
      ],
      "source": [
        "odi_df.shape"
      ]
    },
    {
      "cell_type": "code",
      "execution_count": 7,
      "id": "e20ae7ac",
      "metadata": {
        "id": "e20ae7ac",
        "outputId": "5fd8a466-0f8d-4930-9e8a-f991c0c38088"
      },
      "outputs": [
        {
          "name": "stdout",
          "output_type": "stream",
          "text": [
            "<class 'pandas.core.frame.DataFrame'>\n",
            "RangeIndex: 19104 entries, 0 to 19103\n",
            "Data columns (total 13 columns):\n",
            " #   Column                Non-Null Count  Dtype  \n",
            "---  ------                --------------  -----  \n",
            " 0   MMM-YY                19104 non-null  object \n",
            " 1   Driver_ID             19104 non-null  int64  \n",
            " 2   Age                   19043 non-null  float64\n",
            " 3   Gender                19052 non-null  float64\n",
            " 4   City                  19104 non-null  object \n",
            " 5   Education_Level       19104 non-null  int64  \n",
            " 6   Income                19104 non-null  int64  \n",
            " 7   Dateofjoining         19104 non-null  object \n",
            " 8   LastWorkingDate       1616 non-null   object \n",
            " 9   Joining Designation   19104 non-null  int64  \n",
            " 10  Grade                 19104 non-null  int64  \n",
            " 11  Total Business Value  19104 non-null  int64  \n",
            " 12  Quarterly Rating      19104 non-null  int64  \n",
            "dtypes: float64(2), int64(7), object(4)\n",
            "memory usage: 1.9+ MB\n"
          ]
        }
      ],
      "source": [
        "odi_df.info()"
      ]
    },
    {
      "cell_type": "code",
      "execution_count": 8,
      "id": "88ff8ca9",
      "metadata": {
        "id": "88ff8ca9",
        "outputId": "fe1e87b4-d0c2-4d00-b69d-581b68f2be0a"
      },
      "outputs": [
        {
          "data": {
            "text/html": [
              "<div>\n",
              "<style scoped>\n",
              "    .dataframe tbody tr th:only-of-type {\n",
              "        vertical-align: middle;\n",
              "    }\n",
              "\n",
              "    .dataframe tbody tr th {\n",
              "        vertical-align: top;\n",
              "    }\n",
              "\n",
              "    .dataframe thead th {\n",
              "        text-align: right;\n",
              "    }\n",
              "</style>\n",
              "<table border=\"1\" class=\"dataframe\">\n",
              "  <thead>\n",
              "    <tr style=\"text-align: right;\">\n",
              "      <th></th>\n",
              "      <th>count</th>\n",
              "      <th>unique</th>\n",
              "      <th>top</th>\n",
              "      <th>freq</th>\n",
              "      <th>mean</th>\n",
              "      <th>std</th>\n",
              "      <th>min</th>\n",
              "      <th>25%</th>\n",
              "      <th>50%</th>\n",
              "      <th>75%</th>\n",
              "      <th>max</th>\n",
              "    </tr>\n",
              "  </thead>\n",
              "  <tbody>\n",
              "    <tr>\n",
              "      <th>MMM-YY</th>\n",
              "      <td>19104</td>\n",
              "      <td>24</td>\n",
              "      <td>01/01/19</td>\n",
              "      <td>1022</td>\n",
              "      <td>NaN</td>\n",
              "      <td>NaN</td>\n",
              "      <td>NaN</td>\n",
              "      <td>NaN</td>\n",
              "      <td>NaN</td>\n",
              "      <td>NaN</td>\n",
              "      <td>NaN</td>\n",
              "    </tr>\n",
              "    <tr>\n",
              "      <th>Driver_ID</th>\n",
              "      <td>19104.0</td>\n",
              "      <td>NaN</td>\n",
              "      <td>NaN</td>\n",
              "      <td>NaN</td>\n",
              "      <td>1415.591133</td>\n",
              "      <td>810.705321</td>\n",
              "      <td>1.0</td>\n",
              "      <td>710.0</td>\n",
              "      <td>1417.0</td>\n",
              "      <td>2137.0</td>\n",
              "      <td>2788.0</td>\n",
              "    </tr>\n",
              "    <tr>\n",
              "      <th>Age</th>\n",
              "      <td>19043.0</td>\n",
              "      <td>NaN</td>\n",
              "      <td>NaN</td>\n",
              "      <td>NaN</td>\n",
              "      <td>34.668435</td>\n",
              "      <td>6.257912</td>\n",
              "      <td>21.0</td>\n",
              "      <td>30.0</td>\n",
              "      <td>34.0</td>\n",
              "      <td>39.0</td>\n",
              "      <td>58.0</td>\n",
              "    </tr>\n",
              "    <tr>\n",
              "      <th>Gender</th>\n",
              "      <td>19052.0</td>\n",
              "      <td>NaN</td>\n",
              "      <td>NaN</td>\n",
              "      <td>NaN</td>\n",
              "      <td>0.418749</td>\n",
              "      <td>0.493367</td>\n",
              "      <td>0.0</td>\n",
              "      <td>0.0</td>\n",
              "      <td>0.0</td>\n",
              "      <td>1.0</td>\n",
              "      <td>1.0</td>\n",
              "    </tr>\n",
              "    <tr>\n",
              "      <th>City</th>\n",
              "      <td>19104</td>\n",
              "      <td>29</td>\n",
              "      <td>C20</td>\n",
              "      <td>1008</td>\n",
              "      <td>NaN</td>\n",
              "      <td>NaN</td>\n",
              "      <td>NaN</td>\n",
              "      <td>NaN</td>\n",
              "      <td>NaN</td>\n",
              "      <td>NaN</td>\n",
              "      <td>NaN</td>\n",
              "    </tr>\n",
              "    <tr>\n",
              "      <th>Education_Level</th>\n",
              "      <td>19104.0</td>\n",
              "      <td>NaN</td>\n",
              "      <td>NaN</td>\n",
              "      <td>NaN</td>\n",
              "      <td>1.021671</td>\n",
              "      <td>0.800167</td>\n",
              "      <td>0.0</td>\n",
              "      <td>0.0</td>\n",
              "      <td>1.0</td>\n",
              "      <td>2.0</td>\n",
              "      <td>2.0</td>\n",
              "    </tr>\n",
              "    <tr>\n",
              "      <th>Income</th>\n",
              "      <td>19104.0</td>\n",
              "      <td>NaN</td>\n",
              "      <td>NaN</td>\n",
              "      <td>NaN</td>\n",
              "      <td>65652.025126</td>\n",
              "      <td>30914.515344</td>\n",
              "      <td>10747.0</td>\n",
              "      <td>42383.0</td>\n",
              "      <td>60087.0</td>\n",
              "      <td>83969.0</td>\n",
              "      <td>188418.0</td>\n",
              "    </tr>\n",
              "    <tr>\n",
              "      <th>Dateofjoining</th>\n",
              "      <td>19104</td>\n",
              "      <td>869</td>\n",
              "      <td>23/07/15</td>\n",
              "      <td>192</td>\n",
              "      <td>NaN</td>\n",
              "      <td>NaN</td>\n",
              "      <td>NaN</td>\n",
              "      <td>NaN</td>\n",
              "      <td>NaN</td>\n",
              "      <td>NaN</td>\n",
              "      <td>NaN</td>\n",
              "    </tr>\n",
              "    <tr>\n",
              "      <th>LastWorkingDate</th>\n",
              "      <td>1616</td>\n",
              "      <td>493</td>\n",
              "      <td>29/07/20</td>\n",
              "      <td>70</td>\n",
              "      <td>NaN</td>\n",
              "      <td>NaN</td>\n",
              "      <td>NaN</td>\n",
              "      <td>NaN</td>\n",
              "      <td>NaN</td>\n",
              "      <td>NaN</td>\n",
              "      <td>NaN</td>\n",
              "    </tr>\n",
              "    <tr>\n",
              "      <th>Joining Designation</th>\n",
              "      <td>19104.0</td>\n",
              "      <td>NaN</td>\n",
              "      <td>NaN</td>\n",
              "      <td>NaN</td>\n",
              "      <td>1.690536</td>\n",
              "      <td>0.836984</td>\n",
              "      <td>1.0</td>\n",
              "      <td>1.0</td>\n",
              "      <td>1.0</td>\n",
              "      <td>2.0</td>\n",
              "      <td>5.0</td>\n",
              "    </tr>\n",
              "    <tr>\n",
              "      <th>Grade</th>\n",
              "      <td>19104.0</td>\n",
              "      <td>NaN</td>\n",
              "      <td>NaN</td>\n",
              "      <td>NaN</td>\n",
              "      <td>2.25267</td>\n",
              "      <td>1.026512</td>\n",
              "      <td>1.0</td>\n",
              "      <td>1.0</td>\n",
              "      <td>2.0</td>\n",
              "      <td>3.0</td>\n",
              "      <td>5.0</td>\n",
              "    </tr>\n",
              "    <tr>\n",
              "      <th>Total Business Value</th>\n",
              "      <td>19104.0</td>\n",
              "      <td>NaN</td>\n",
              "      <td>NaN</td>\n",
              "      <td>NaN</td>\n",
              "      <td>571662.074958</td>\n",
              "      <td>1128312.218461</td>\n",
              "      <td>-6000000.0</td>\n",
              "      <td>0.0</td>\n",
              "      <td>250000.0</td>\n",
              "      <td>699700.0</td>\n",
              "      <td>33747720.0</td>\n",
              "    </tr>\n",
              "    <tr>\n",
              "      <th>Quarterly Rating</th>\n",
              "      <td>19104.0</td>\n",
              "      <td>NaN</td>\n",
              "      <td>NaN</td>\n",
              "      <td>NaN</td>\n",
              "      <td>2.008899</td>\n",
              "      <td>1.009832</td>\n",
              "      <td>1.0</td>\n",
              "      <td>1.0</td>\n",
              "      <td>2.0</td>\n",
              "      <td>3.0</td>\n",
              "      <td>4.0</td>\n",
              "    </tr>\n",
              "  </tbody>\n",
              "</table>\n",
              "</div>"
            ],
            "text/plain": [
              "                        count unique       top  freq           mean  \\\n",
              "MMM-YY                  19104     24  01/01/19  1022            NaN   \n",
              "Driver_ID             19104.0    NaN       NaN   NaN    1415.591133   \n",
              "Age                   19043.0    NaN       NaN   NaN      34.668435   \n",
              "Gender                19052.0    NaN       NaN   NaN       0.418749   \n",
              "City                    19104     29       C20  1008            NaN   \n",
              "Education_Level       19104.0    NaN       NaN   NaN       1.021671   \n",
              "Income                19104.0    NaN       NaN   NaN   65652.025126   \n",
              "Dateofjoining           19104    869  23/07/15   192            NaN   \n",
              "LastWorkingDate          1616    493  29/07/20    70            NaN   \n",
              "Joining Designation   19104.0    NaN       NaN   NaN       1.690536   \n",
              "Grade                 19104.0    NaN       NaN   NaN        2.25267   \n",
              "Total Business Value  19104.0    NaN       NaN   NaN  571662.074958   \n",
              "Quarterly Rating      19104.0    NaN       NaN   NaN       2.008899   \n",
              "\n",
              "                                 std        min      25%       50%       75%  \\\n",
              "MMM-YY                           NaN        NaN      NaN       NaN       NaN   \n",
              "Driver_ID                 810.705321        1.0    710.0    1417.0    2137.0   \n",
              "Age                         6.257912       21.0     30.0      34.0      39.0   \n",
              "Gender                      0.493367        0.0      0.0       0.0       1.0   \n",
              "City                             NaN        NaN      NaN       NaN       NaN   \n",
              "Education_Level             0.800167        0.0      0.0       1.0       2.0   \n",
              "Income                  30914.515344    10747.0  42383.0   60087.0   83969.0   \n",
              "Dateofjoining                    NaN        NaN      NaN       NaN       NaN   \n",
              "LastWorkingDate                  NaN        NaN      NaN       NaN       NaN   \n",
              "Joining Designation         0.836984        1.0      1.0       1.0       2.0   \n",
              "Grade                       1.026512        1.0      1.0       2.0       3.0   \n",
              "Total Business Value  1128312.218461 -6000000.0      0.0  250000.0  699700.0   \n",
              "Quarterly Rating            1.009832        1.0      1.0       2.0       3.0   \n",
              "\n",
              "                             max  \n",
              "MMM-YY                       NaN  \n",
              "Driver_ID                 2788.0  \n",
              "Age                         58.0  \n",
              "Gender                       1.0  \n",
              "City                         NaN  \n",
              "Education_Level              2.0  \n",
              "Income                  188418.0  \n",
              "Dateofjoining                NaN  \n",
              "LastWorkingDate              NaN  \n",
              "Joining Designation          5.0  \n",
              "Grade                        5.0  \n",
              "Total Business Value  33747720.0  \n",
              "Quarterly Rating             4.0  "
            ]
          },
          "execution_count": 8,
          "metadata": {},
          "output_type": "execute_result"
        }
      ],
      "source": [
        "odi_df.describe(include='all').T"
      ]
    },
    {
      "cell_type": "code",
      "execution_count": 9,
      "id": "9c3b0436",
      "metadata": {
        "id": "9c3b0436",
        "outputId": "8d6a8d88-1ce9-456e-8367-624c303ef0cc"
      },
      "outputs": [
        {
          "data": {
            "text/plain": [
              "Index(['MMM-YY', 'Driver_ID', 'Age', 'Gender', 'City', 'Education_Level',\n",
              "       'Income', 'Dateofjoining', 'LastWorkingDate', 'Joining Designation',\n",
              "       'Grade', 'Total Business Value', 'Quarterly Rating'],\n",
              "      dtype='object')"
            ]
          },
          "execution_count": 9,
          "metadata": {},
          "output_type": "execute_result"
        }
      ],
      "source": [
        "odi_df.columns"
      ]
    },
    {
      "cell_type": "code",
      "execution_count": 10,
      "id": "0b9813dc",
      "metadata": {
        "id": "0b9813dc",
        "outputId": "75d92bdb-d38c-43ad-e83d-cbc1cbbc531e"
      },
      "outputs": [
        {
          "data": {
            "text/plain": [
              "MMM-YY                   object\n",
              "Driver_ID                 int64\n",
              "Age                     float64\n",
              "Gender                  float64\n",
              "City                     object\n",
              "Education_Level           int64\n",
              "Income                    int64\n",
              "Dateofjoining            object\n",
              "LastWorkingDate          object\n",
              "Joining Designation       int64\n",
              "Grade                     int64\n",
              "Total Business Value      int64\n",
              "Quarterly Rating          int64\n",
              "dtype: object"
            ]
          },
          "execution_count": 10,
          "metadata": {},
          "output_type": "execute_result"
        }
      ],
      "source": [
        "odi_df.dtypes"
      ]
    },
    {
      "cell_type": "markdown",
      "id": "3c39362d",
      "metadata": {
        "id": "3c39362d"
      },
      "source": [
        "- MMM-YY,Dateofjoining,LastWorkingDate columns are in object datatype which shall be converted to datetime format"
      ]
    },
    {
      "cell_type": "markdown",
      "id": "f190e54c",
      "metadata": {
        "id": "f190e54c"
      },
      "source": [
        "## Data Preprocessing"
      ]
    },
    {
      "cell_type": "code",
      "execution_count": 11,
      "id": "764e0b85",
      "metadata": {
        "id": "764e0b85",
        "outputId": "77f898d5-ccff-487c-f544-157a5262178f"
      },
      "outputs": [
        {
          "data": {
            "text/plain": [
              "MMM-YY                  datetime64[ns]\n",
              "Driver_ID                        int64\n",
              "Age                            float64\n",
              "Gender                         float64\n",
              "City                            object\n",
              "Education_Level                  int64\n",
              "Income                           int64\n",
              "Dateofjoining           datetime64[ns]\n",
              "LastWorkingDate         datetime64[ns]\n",
              "Joining Designation              int64\n",
              "Grade                            int64\n",
              "Total Business Value             int64\n",
              "Quarterly Rating                 int64\n",
              "dtype: object"
            ]
          },
          "execution_count": 11,
          "metadata": {},
          "output_type": "execute_result"
        }
      ],
      "source": [
        "odi_df['MMM-YY'] = pd.to_datetime(odi_df['MMM-YY'])\n",
        "odi_df['Dateofjoining'] = pd.to_datetime(odi_df['Dateofjoining'])\n",
        "odi_df['LastWorkingDate'] = pd.to_datetime(odi_df['LastWorkingDate'])\n",
        "odi_df.dtypes"
      ]
    },
    {
      "cell_type": "markdown",
      "id": "bd40706e",
      "metadata": {
        "id": "bd40706e"
      },
      "source": [
        "### Null Values Handling"
      ]
    },
    {
      "cell_type": "code",
      "execution_count": 12,
      "id": "a8507c2b",
      "metadata": {
        "id": "a8507c2b",
        "outputId": "1490df39-e149-43d0-b5f1-85081db3a94c"
      },
      "outputs": [
        {
          "data": {
            "text/plain": [
              "MMM-YY                      0\n",
              "Driver_ID                   0\n",
              "Age                        61\n",
              "Gender                     52\n",
              "City                        0\n",
              "Education_Level             0\n",
              "Income                      0\n",
              "Dateofjoining               0\n",
              "LastWorkingDate         17488\n",
              "Joining Designation         0\n",
              "Grade                       0\n",
              "Total Business Value        0\n",
              "Quarterly Rating            0\n",
              "dtype: int64"
            ]
          },
          "execution_count": 12,
          "metadata": {},
          "output_type": "execute_result"
        }
      ],
      "source": [
        "# Checking number of Null values per each column\n",
        "odi_df.isna().sum()"
      ]
    },
    {
      "cell_type": "code",
      "execution_count": 13,
      "id": "f0a103dd",
      "metadata": {
        "id": "f0a103dd",
        "outputId": "85d7da29-b1d3-4024-a1c7-9cac552539ec"
      },
      "outputs": [
        {
          "data": {
            "text/plain": [
              "0"
            ]
          },
          "execution_count": 13,
          "metadata": {},
          "output_type": "execute_result"
        }
      ],
      "source": [
        "# Checking total number of Duplicate rows\n",
        "odi_df.duplicated().sum()"
      ]
    },
    {
      "cell_type": "code",
      "execution_count": 14,
      "id": "06167fdc",
      "metadata": {
        "id": "06167fdc"
      },
      "outputs": [],
      "source": [
        "num_vars = odi_df.select_dtypes(include='number')\n",
        "num_vars.drop('Driver_ID',axis=1,inplace=True)"
      ]
    },
    {
      "cell_type": "code",
      "execution_count": 15,
      "id": "6d79a852",
      "metadata": {
        "id": "6d79a852",
        "outputId": "2fceb7ce-678d-4f6a-f910-8b3e9fbd96a3"
      },
      "outputs": [
        {
          "data": {
            "text/html": [
              "<div>\n",
              "<style scoped>\n",
              "    .dataframe tbody tr th:only-of-type {\n",
              "        vertical-align: middle;\n",
              "    }\n",
              "\n",
              "    .dataframe tbody tr th {\n",
              "        vertical-align: top;\n",
              "    }\n",
              "\n",
              "    .dataframe thead th {\n",
              "        text-align: right;\n",
              "    }\n",
              "</style>\n",
              "<table border=\"1\" class=\"dataframe\">\n",
              "  <thead>\n",
              "    <tr style=\"text-align: right;\">\n",
              "      <th></th>\n",
              "      <th>Age</th>\n",
              "      <th>Gender</th>\n",
              "      <th>Education_Level</th>\n",
              "      <th>Income</th>\n",
              "      <th>Joining Designation</th>\n",
              "      <th>Grade</th>\n",
              "      <th>Total Business Value</th>\n",
              "      <th>Quarterly Rating</th>\n",
              "    </tr>\n",
              "  </thead>\n",
              "  <tbody>\n",
              "    <tr>\n",
              "      <th>0</th>\n",
              "      <td>28.0</td>\n",
              "      <td>0.0</td>\n",
              "      <td>2.0</td>\n",
              "      <td>57387.0</td>\n",
              "      <td>1.0</td>\n",
              "      <td>1.0</td>\n",
              "      <td>2381060.0</td>\n",
              "      <td>2.0</td>\n",
              "    </tr>\n",
              "    <tr>\n",
              "      <th>1</th>\n",
              "      <td>28.0</td>\n",
              "      <td>0.0</td>\n",
              "      <td>2.0</td>\n",
              "      <td>57387.0</td>\n",
              "      <td>1.0</td>\n",
              "      <td>1.0</td>\n",
              "      <td>-665480.0</td>\n",
              "      <td>2.0</td>\n",
              "    </tr>\n",
              "    <tr>\n",
              "      <th>2</th>\n",
              "      <td>28.0</td>\n",
              "      <td>0.0</td>\n",
              "      <td>2.0</td>\n",
              "      <td>57387.0</td>\n",
              "      <td>1.0</td>\n",
              "      <td>1.0</td>\n",
              "      <td>0.0</td>\n",
              "      <td>2.0</td>\n",
              "    </tr>\n",
              "    <tr>\n",
              "      <th>3</th>\n",
              "      <td>31.0</td>\n",
              "      <td>0.0</td>\n",
              "      <td>2.0</td>\n",
              "      <td>67016.0</td>\n",
              "      <td>2.0</td>\n",
              "      <td>2.0</td>\n",
              "      <td>0.0</td>\n",
              "      <td>1.0</td>\n",
              "    </tr>\n",
              "    <tr>\n",
              "      <th>4</th>\n",
              "      <td>31.0</td>\n",
              "      <td>0.0</td>\n",
              "      <td>2.0</td>\n",
              "      <td>67016.0</td>\n",
              "      <td>2.0</td>\n",
              "      <td>2.0</td>\n",
              "      <td>0.0</td>\n",
              "      <td>1.0</td>\n",
              "    </tr>\n",
              "    <tr>\n",
              "      <th>...</th>\n",
              "      <td>...</td>\n",
              "      <td>...</td>\n",
              "      <td>...</td>\n",
              "      <td>...</td>\n",
              "      <td>...</td>\n",
              "      <td>...</td>\n",
              "      <td>...</td>\n",
              "      <td>...</td>\n",
              "    </tr>\n",
              "    <tr>\n",
              "      <th>19099</th>\n",
              "      <td>30.0</td>\n",
              "      <td>0.0</td>\n",
              "      <td>2.0</td>\n",
              "      <td>70254.0</td>\n",
              "      <td>2.0</td>\n",
              "      <td>2.0</td>\n",
              "      <td>740280.0</td>\n",
              "      <td>3.0</td>\n",
              "    </tr>\n",
              "    <tr>\n",
              "      <th>19100</th>\n",
              "      <td>30.0</td>\n",
              "      <td>0.0</td>\n",
              "      <td>2.0</td>\n",
              "      <td>70254.0</td>\n",
              "      <td>2.0</td>\n",
              "      <td>2.0</td>\n",
              "      <td>448370.0</td>\n",
              "      <td>3.0</td>\n",
              "    </tr>\n",
              "    <tr>\n",
              "      <th>19101</th>\n",
              "      <td>30.0</td>\n",
              "      <td>0.0</td>\n",
              "      <td>2.0</td>\n",
              "      <td>70254.0</td>\n",
              "      <td>2.0</td>\n",
              "      <td>2.0</td>\n",
              "      <td>0.0</td>\n",
              "      <td>2.0</td>\n",
              "    </tr>\n",
              "    <tr>\n",
              "      <th>19102</th>\n",
              "      <td>30.0</td>\n",
              "      <td>0.0</td>\n",
              "      <td>2.0</td>\n",
              "      <td>70254.0</td>\n",
              "      <td>2.0</td>\n",
              "      <td>2.0</td>\n",
              "      <td>200420.0</td>\n",
              "      <td>2.0</td>\n",
              "    </tr>\n",
              "    <tr>\n",
              "      <th>19103</th>\n",
              "      <td>30.0</td>\n",
              "      <td>0.0</td>\n",
              "      <td>2.0</td>\n",
              "      <td>70254.0</td>\n",
              "      <td>2.0</td>\n",
              "      <td>2.0</td>\n",
              "      <td>411480.0</td>\n",
              "      <td>2.0</td>\n",
              "    </tr>\n",
              "  </tbody>\n",
              "</table>\n",
              "<p>19104 rows × 8 columns</p>\n",
              "</div>"
            ],
            "text/plain": [
              "        Age  Gender  Education_Level   Income  Joining Designation  Grade  \\\n",
              "0      28.0     0.0              2.0  57387.0                  1.0    1.0   \n",
              "1      28.0     0.0              2.0  57387.0                  1.0    1.0   \n",
              "2      28.0     0.0              2.0  57387.0                  1.0    1.0   \n",
              "3      31.0     0.0              2.0  67016.0                  2.0    2.0   \n",
              "4      31.0     0.0              2.0  67016.0                  2.0    2.0   \n",
              "...     ...     ...              ...      ...                  ...    ...   \n",
              "19099  30.0     0.0              2.0  70254.0                  2.0    2.0   \n",
              "19100  30.0     0.0              2.0  70254.0                  2.0    2.0   \n",
              "19101  30.0     0.0              2.0  70254.0                  2.0    2.0   \n",
              "19102  30.0     0.0              2.0  70254.0                  2.0    2.0   \n",
              "19103  30.0     0.0              2.0  70254.0                  2.0    2.0   \n",
              "\n",
              "       Total Business Value  Quarterly Rating  \n",
              "0                 2381060.0               2.0  \n",
              "1                 -665480.0               2.0  \n",
              "2                       0.0               2.0  \n",
              "3                       0.0               1.0  \n",
              "4                       0.0               1.0  \n",
              "...                     ...               ...  \n",
              "19099              740280.0               3.0  \n",
              "19100              448370.0               3.0  \n",
              "19101                   0.0               2.0  \n",
              "19102              200420.0               2.0  \n",
              "19103              411480.0               2.0  \n",
              "\n",
              "[19104 rows x 8 columns]"
            ]
          },
          "execution_count": 15,
          "metadata": {},
          "output_type": "execute_result"
        }
      ],
      "source": [
        "imputer = KNNImputer(n_neighbors=5, weights='uniform', metric='nan_euclidean')\n",
        "imputed_odi_df = pd.DataFrame(imputer.fit_transform(num_vars),columns=num_vars.columns)\n",
        "imputed_odi_df"
      ]
    },
    {
      "cell_type": "code",
      "execution_count": 16,
      "id": "379fe22d",
      "metadata": {
        "id": "379fe22d",
        "outputId": "7c916627-7394-40dc-a5c8-a5c45867282d"
      },
      "outputs": [
        {
          "data": {
            "text/plain": [
              "Age                     0\n",
              "Gender                  0\n",
              "Education_Level         0\n",
              "Income                  0\n",
              "Joining Designation     0\n",
              "Grade                   0\n",
              "Total Business Value    0\n",
              "Quarterly Rating        0\n",
              "dtype: int64"
            ]
          },
          "execution_count": 16,
          "metadata": {},
          "output_type": "execute_result"
        }
      ],
      "source": [
        "imputed_odi_df.isna().sum()"
      ]
    },
    {
      "cell_type": "code",
      "execution_count": 17,
      "id": "d59fd760",
      "metadata": {
        "id": "d59fd760",
        "outputId": "0bec9e2f-7ac1-4c46-a0ee-5f55556fb45d"
      },
      "outputs": [
        {
          "data": {
            "text/plain": [
              "['LastWorkingDate', 'Dateofjoining', 'MMM-YY', 'Driver_ID', 'City']"
            ]
          },
          "execution_count": 17,
          "metadata": {},
          "output_type": "execute_result"
        }
      ],
      "source": [
        "other_cols = list(set(odi_df.columns).difference(set(num_vars.columns)))\n",
        "other_cols"
      ]
    },
    {
      "cell_type": "code",
      "execution_count": 18,
      "id": "6804c9e0",
      "metadata": {
        "id": "6804c9e0",
        "outputId": "2dd84acc-c661-43ac-bb26-e6a7c64c9c1d"
      },
      "outputs": [
        {
          "data": {
            "text/html": [
              "<div>\n",
              "<style scoped>\n",
              "    .dataframe tbody tr th:only-of-type {\n",
              "        vertical-align: middle;\n",
              "    }\n",
              "\n",
              "    .dataframe tbody tr th {\n",
              "        vertical-align: top;\n",
              "    }\n",
              "\n",
              "    .dataframe thead th {\n",
              "        text-align: right;\n",
              "    }\n",
              "</style>\n",
              "<table border=\"1\" class=\"dataframe\">\n",
              "  <thead>\n",
              "    <tr style=\"text-align: right;\">\n",
              "      <th></th>\n",
              "      <th>Age</th>\n",
              "      <th>Gender</th>\n",
              "      <th>Education_Level</th>\n",
              "      <th>Income</th>\n",
              "      <th>Joining Designation</th>\n",
              "      <th>Grade</th>\n",
              "      <th>Total Business Value</th>\n",
              "      <th>Quarterly Rating</th>\n",
              "      <th>LastWorkingDate</th>\n",
              "      <th>Dateofjoining</th>\n",
              "      <th>MMM-YY</th>\n",
              "      <th>Driver_ID</th>\n",
              "      <th>City</th>\n",
              "    </tr>\n",
              "  </thead>\n",
              "  <tbody>\n",
              "    <tr>\n",
              "      <th>0</th>\n",
              "      <td>28.0</td>\n",
              "      <td>0.0</td>\n",
              "      <td>2.0</td>\n",
              "      <td>57387.0</td>\n",
              "      <td>1.0</td>\n",
              "      <td>1.0</td>\n",
              "      <td>2381060.0</td>\n",
              "      <td>2.0</td>\n",
              "      <td>NaT</td>\n",
              "      <td>2018-12-24</td>\n",
              "      <td>2019-01-01</td>\n",
              "      <td>1</td>\n",
              "      <td>C23</td>\n",
              "    </tr>\n",
              "    <tr>\n",
              "      <th>1</th>\n",
              "      <td>28.0</td>\n",
              "      <td>0.0</td>\n",
              "      <td>2.0</td>\n",
              "      <td>57387.0</td>\n",
              "      <td>1.0</td>\n",
              "      <td>1.0</td>\n",
              "      <td>-665480.0</td>\n",
              "      <td>2.0</td>\n",
              "      <td>NaT</td>\n",
              "      <td>2018-12-24</td>\n",
              "      <td>2019-02-01</td>\n",
              "      <td>1</td>\n",
              "      <td>C23</td>\n",
              "    </tr>\n",
              "    <tr>\n",
              "      <th>2</th>\n",
              "      <td>28.0</td>\n",
              "      <td>0.0</td>\n",
              "      <td>2.0</td>\n",
              "      <td>57387.0</td>\n",
              "      <td>1.0</td>\n",
              "      <td>1.0</td>\n",
              "      <td>0.0</td>\n",
              "      <td>2.0</td>\n",
              "      <td>2019-03-11</td>\n",
              "      <td>2018-12-24</td>\n",
              "      <td>2019-03-01</td>\n",
              "      <td>1</td>\n",
              "      <td>C23</td>\n",
              "    </tr>\n",
              "    <tr>\n",
              "      <th>3</th>\n",
              "      <td>31.0</td>\n",
              "      <td>0.0</td>\n",
              "      <td>2.0</td>\n",
              "      <td>67016.0</td>\n",
              "      <td>2.0</td>\n",
              "      <td>2.0</td>\n",
              "      <td>0.0</td>\n",
              "      <td>1.0</td>\n",
              "      <td>NaT</td>\n",
              "      <td>2020-11-06</td>\n",
              "      <td>2020-11-01</td>\n",
              "      <td>2</td>\n",
              "      <td>C7</td>\n",
              "    </tr>\n",
              "    <tr>\n",
              "      <th>4</th>\n",
              "      <td>31.0</td>\n",
              "      <td>0.0</td>\n",
              "      <td>2.0</td>\n",
              "      <td>67016.0</td>\n",
              "      <td>2.0</td>\n",
              "      <td>2.0</td>\n",
              "      <td>0.0</td>\n",
              "      <td>1.0</td>\n",
              "      <td>NaT</td>\n",
              "      <td>2020-11-06</td>\n",
              "      <td>2020-12-01</td>\n",
              "      <td>2</td>\n",
              "      <td>C7</td>\n",
              "    </tr>\n",
              "    <tr>\n",
              "      <th>...</th>\n",
              "      <td>...</td>\n",
              "      <td>...</td>\n",
              "      <td>...</td>\n",
              "      <td>...</td>\n",
              "      <td>...</td>\n",
              "      <td>...</td>\n",
              "      <td>...</td>\n",
              "      <td>...</td>\n",
              "      <td>...</td>\n",
              "      <td>...</td>\n",
              "      <td>...</td>\n",
              "      <td>...</td>\n",
              "      <td>...</td>\n",
              "    </tr>\n",
              "    <tr>\n",
              "      <th>19099</th>\n",
              "      <td>30.0</td>\n",
              "      <td>0.0</td>\n",
              "      <td>2.0</td>\n",
              "      <td>70254.0</td>\n",
              "      <td>2.0</td>\n",
              "      <td>2.0</td>\n",
              "      <td>740280.0</td>\n",
              "      <td>3.0</td>\n",
              "      <td>NaT</td>\n",
              "      <td>2020-06-08</td>\n",
              "      <td>2020-08-01</td>\n",
              "      <td>2788</td>\n",
              "      <td>C27</td>\n",
              "    </tr>\n",
              "    <tr>\n",
              "      <th>19100</th>\n",
              "      <td>30.0</td>\n",
              "      <td>0.0</td>\n",
              "      <td>2.0</td>\n",
              "      <td>70254.0</td>\n",
              "      <td>2.0</td>\n",
              "      <td>2.0</td>\n",
              "      <td>448370.0</td>\n",
              "      <td>3.0</td>\n",
              "      <td>NaT</td>\n",
              "      <td>2020-06-08</td>\n",
              "      <td>2020-09-01</td>\n",
              "      <td>2788</td>\n",
              "      <td>C27</td>\n",
              "    </tr>\n",
              "    <tr>\n",
              "      <th>19101</th>\n",
              "      <td>30.0</td>\n",
              "      <td>0.0</td>\n",
              "      <td>2.0</td>\n",
              "      <td>70254.0</td>\n",
              "      <td>2.0</td>\n",
              "      <td>2.0</td>\n",
              "      <td>0.0</td>\n",
              "      <td>2.0</td>\n",
              "      <td>NaT</td>\n",
              "      <td>2020-06-08</td>\n",
              "      <td>2020-10-01</td>\n",
              "      <td>2788</td>\n",
              "      <td>C27</td>\n",
              "    </tr>\n",
              "    <tr>\n",
              "      <th>19102</th>\n",
              "      <td>30.0</td>\n",
              "      <td>0.0</td>\n",
              "      <td>2.0</td>\n",
              "      <td>70254.0</td>\n",
              "      <td>2.0</td>\n",
              "      <td>2.0</td>\n",
              "      <td>200420.0</td>\n",
              "      <td>2.0</td>\n",
              "      <td>NaT</td>\n",
              "      <td>2020-06-08</td>\n",
              "      <td>2020-11-01</td>\n",
              "      <td>2788</td>\n",
              "      <td>C27</td>\n",
              "    </tr>\n",
              "    <tr>\n",
              "      <th>19103</th>\n",
              "      <td>30.0</td>\n",
              "      <td>0.0</td>\n",
              "      <td>2.0</td>\n",
              "      <td>70254.0</td>\n",
              "      <td>2.0</td>\n",
              "      <td>2.0</td>\n",
              "      <td>411480.0</td>\n",
              "      <td>2.0</td>\n",
              "      <td>NaT</td>\n",
              "      <td>2020-06-08</td>\n",
              "      <td>2020-12-01</td>\n",
              "      <td>2788</td>\n",
              "      <td>C27</td>\n",
              "    </tr>\n",
              "  </tbody>\n",
              "</table>\n",
              "<p>19104 rows × 13 columns</p>\n",
              "</div>"
            ],
            "text/plain": [
              "        Age  Gender  Education_Level   Income  Joining Designation  Grade  \\\n",
              "0      28.0     0.0              2.0  57387.0                  1.0    1.0   \n",
              "1      28.0     0.0              2.0  57387.0                  1.0    1.0   \n",
              "2      28.0     0.0              2.0  57387.0                  1.0    1.0   \n",
              "3      31.0     0.0              2.0  67016.0                  2.0    2.0   \n",
              "4      31.0     0.0              2.0  67016.0                  2.0    2.0   \n",
              "...     ...     ...              ...      ...                  ...    ...   \n",
              "19099  30.0     0.0              2.0  70254.0                  2.0    2.0   \n",
              "19100  30.0     0.0              2.0  70254.0                  2.0    2.0   \n",
              "19101  30.0     0.0              2.0  70254.0                  2.0    2.0   \n",
              "19102  30.0     0.0              2.0  70254.0                  2.0    2.0   \n",
              "19103  30.0     0.0              2.0  70254.0                  2.0    2.0   \n",
              "\n",
              "       Total Business Value  Quarterly Rating LastWorkingDate Dateofjoining  \\\n",
              "0                 2381060.0               2.0             NaT    2018-12-24   \n",
              "1                 -665480.0               2.0             NaT    2018-12-24   \n",
              "2                       0.0               2.0      2019-03-11    2018-12-24   \n",
              "3                       0.0               1.0             NaT    2020-11-06   \n",
              "4                       0.0               1.0             NaT    2020-11-06   \n",
              "...                     ...               ...             ...           ...   \n",
              "19099              740280.0               3.0             NaT    2020-06-08   \n",
              "19100              448370.0               3.0             NaT    2020-06-08   \n",
              "19101                   0.0               2.0             NaT    2020-06-08   \n",
              "19102              200420.0               2.0             NaT    2020-06-08   \n",
              "19103              411480.0               2.0             NaT    2020-06-08   \n",
              "\n",
              "          MMM-YY  Driver_ID City  \n",
              "0     2019-01-01          1  C23  \n",
              "1     2019-02-01          1  C23  \n",
              "2     2019-03-01          1  C23  \n",
              "3     2020-11-01          2   C7  \n",
              "4     2020-12-01          2   C7  \n",
              "...          ...        ...  ...  \n",
              "19099 2020-08-01       2788  C27  \n",
              "19100 2020-09-01       2788  C27  \n",
              "19101 2020-10-01       2788  C27  \n",
              "19102 2020-11-01       2788  C27  \n",
              "19103 2020-12-01       2788  C27  \n",
              "\n",
              "[19104 rows x 13 columns]"
            ]
          },
          "execution_count": 18,
          "metadata": {},
          "output_type": "execute_result"
        }
      ],
      "source": [
        "res_odi_df = pd.concat([imputed_odi_df,odi_df[other_cols]],axis=1)\n",
        "res_odi_df"
      ]
    },
    {
      "cell_type": "code",
      "execution_count": 19,
      "id": "975cdccb",
      "metadata": {
        "id": "975cdccb",
        "outputId": "4c82ff33-c86f-407c-ef0b-253c72cd9cc0"
      },
      "outputs": [
        {
          "data": {
            "text/html": [
              "<div>\n",
              "<style scoped>\n",
              "    .dataframe tbody tr th:only-of-type {\n",
              "        vertical-align: middle;\n",
              "    }\n",
              "\n",
              "    .dataframe tbody tr th {\n",
              "        vertical-align: top;\n",
              "    }\n",
              "\n",
              "    .dataframe thead th {\n",
              "        text-align: right;\n",
              "    }\n",
              "</style>\n",
              "<table border=\"1\" class=\"dataframe\">\n",
              "  <thead>\n",
              "    <tr style=\"text-align: right;\">\n",
              "      <th></th>\n",
              "      <th></th>\n",
              "      <th>Age</th>\n",
              "      <th>Gender</th>\n",
              "      <th>Education_Level</th>\n",
              "      <th>Income</th>\n",
              "      <th>Joining Designation</th>\n",
              "      <th>Grade</th>\n",
              "      <th>Total Business Value</th>\n",
              "      <th>Quarterly Rating</th>\n",
              "      <th>LastWorkingDate</th>\n",
              "      <th>City</th>\n",
              "      <th>Dateofjoining</th>\n",
              "    </tr>\n",
              "    <tr>\n",
              "      <th>Driver_ID</th>\n",
              "      <th>MMM-YY</th>\n",
              "      <th></th>\n",
              "      <th></th>\n",
              "      <th></th>\n",
              "      <th></th>\n",
              "      <th></th>\n",
              "      <th></th>\n",
              "      <th></th>\n",
              "      <th></th>\n",
              "      <th></th>\n",
              "      <th></th>\n",
              "      <th></th>\n",
              "    </tr>\n",
              "  </thead>\n",
              "  <tbody>\n",
              "    <tr>\n",
              "      <th rowspan=\"3\" valign=\"top\">1</th>\n",
              "      <th>2019-01-01</th>\n",
              "      <td>28.0</td>\n",
              "      <td>0.0</td>\n",
              "      <td>2.0</td>\n",
              "      <td>57387.0</td>\n",
              "      <td>1.0</td>\n",
              "      <td>1.0</td>\n",
              "      <td>2381060.0</td>\n",
              "      <td>2.0</td>\n",
              "      <td>NaT</td>\n",
              "      <td>C23</td>\n",
              "      <td>2018-12-24</td>\n",
              "    </tr>\n",
              "    <tr>\n",
              "      <th>2019-02-01</th>\n",
              "      <td>28.0</td>\n",
              "      <td>0.0</td>\n",
              "      <td>2.0</td>\n",
              "      <td>57387.0</td>\n",
              "      <td>1.0</td>\n",
              "      <td>1.0</td>\n",
              "      <td>-665480.0</td>\n",
              "      <td>2.0</td>\n",
              "      <td>NaT</td>\n",
              "      <td>C23</td>\n",
              "      <td>2018-12-24</td>\n",
              "    </tr>\n",
              "    <tr>\n",
              "      <th>2019-03-01</th>\n",
              "      <td>28.0</td>\n",
              "      <td>0.0</td>\n",
              "      <td>2.0</td>\n",
              "      <td>57387.0</td>\n",
              "      <td>1.0</td>\n",
              "      <td>1.0</td>\n",
              "      <td>0.0</td>\n",
              "      <td>2.0</td>\n",
              "      <td>2019-03-11</td>\n",
              "      <td>C23</td>\n",
              "      <td>2018-12-24</td>\n",
              "    </tr>\n",
              "    <tr>\n",
              "      <th rowspan=\"2\" valign=\"top\">2</th>\n",
              "      <th>2020-11-01</th>\n",
              "      <td>31.0</td>\n",
              "      <td>0.0</td>\n",
              "      <td>2.0</td>\n",
              "      <td>67016.0</td>\n",
              "      <td>2.0</td>\n",
              "      <td>2.0</td>\n",
              "      <td>0.0</td>\n",
              "      <td>1.0</td>\n",
              "      <td>NaT</td>\n",
              "      <td>C7</td>\n",
              "      <td>2020-11-06</td>\n",
              "    </tr>\n",
              "    <tr>\n",
              "      <th>2020-12-01</th>\n",
              "      <td>31.0</td>\n",
              "      <td>0.0</td>\n",
              "      <td>2.0</td>\n",
              "      <td>67016.0</td>\n",
              "      <td>2.0</td>\n",
              "      <td>2.0</td>\n",
              "      <td>0.0</td>\n",
              "      <td>1.0</td>\n",
              "      <td>NaT</td>\n",
              "      <td>C7</td>\n",
              "      <td>2020-11-06</td>\n",
              "    </tr>\n",
              "  </tbody>\n",
              "</table>\n",
              "</div>"
            ],
            "text/plain": [
              "                       Age  Gender  Education_Level   Income  \\\n",
              "Driver_ID MMM-YY                                               \n",
              "1         2019-01-01  28.0     0.0              2.0  57387.0   \n",
              "          2019-02-01  28.0     0.0              2.0  57387.0   \n",
              "          2019-03-01  28.0     0.0              2.0  57387.0   \n",
              "2         2020-11-01  31.0     0.0              2.0  67016.0   \n",
              "          2020-12-01  31.0     0.0              2.0  67016.0   \n",
              "\n",
              "                      Joining Designation  Grade  Total Business Value  \\\n",
              "Driver_ID MMM-YY                                                         \n",
              "1         2019-01-01                  1.0    1.0             2381060.0   \n",
              "          2019-02-01                  1.0    1.0             -665480.0   \n",
              "          2019-03-01                  1.0    1.0                   0.0   \n",
              "2         2020-11-01                  2.0    2.0                   0.0   \n",
              "          2020-12-01                  2.0    2.0                   0.0   \n",
              "\n",
              "                      Quarterly Rating LastWorkingDate City Dateofjoining  \n",
              "Driver_ID MMM-YY                                                           \n",
              "1         2019-01-01               2.0             NaT  C23    2018-12-24  \n",
              "          2019-02-01               2.0             NaT  C23    2018-12-24  \n",
              "          2019-03-01               2.0      2019-03-11  C23    2018-12-24  \n",
              "2         2020-11-01               1.0             NaT   C7    2020-11-06  \n",
              "          2020-12-01               1.0             NaT   C7    2020-11-06  "
            ]
          },
          "execution_count": 19,
          "metadata": {},
          "output_type": "execute_result"
        }
      ],
      "source": [
        "agg_functions = {\n",
        "    \"Age\": \"max\",\n",
        "    \"Gender\": \"first\",\n",
        "    \"Education_Level\": \"last\",\n",
        "    \"Income\": \"last\",\n",
        "    \"Joining Designation\": \"last\",\n",
        "    \"Grade\": \"last\",\n",
        "    \"Total Business Value\": \"sum\",\n",
        "    \"Quarterly Rating\": \"last\",\n",
        "    \"LastWorkingDate\": \"last\",\n",
        "    \"City\": \"first\",\n",
        "    \"Dateofjoining\": \"last\"\n",
        "}\n",
        "\n",
        "agg_odi_df = res_odi_df.groupby([\"Driver_ID\", \"MMM-YY\"]).aggregate(agg_functions).sort_index(ascending = [True, True])\n",
        "\n",
        "agg_odi_df.head()"
      ]
    },
    {
      "cell_type": "code",
      "execution_count": 20,
      "id": "d2731276",
      "metadata": {
        "id": "d2731276"
      },
      "outputs": [],
      "source": [
        "final_odi_df = pd.DataFrame()\n",
        "final_odi_df[\"Driver_ID\"] = res_odi_df[\"Driver_ID\"].unique()"
      ]
    },
    {
      "cell_type": "code",
      "execution_count": 21,
      "id": "c23ef1a7",
      "metadata": {
        "id": "c23ef1a7"
      },
      "outputs": [],
      "source": [
        "final_odi_df['Age'] = list(agg_odi_df.groupby('Driver_ID',axis=0).max('MMM-YY')['Age'])\n",
        "final_odi_df['Gender'] = list(agg_odi_df.groupby('Driver_ID').agg({'Gender':'last'})['Gender'])\n",
        "final_odi_df['City'] = list(agg_odi_df.groupby('Driver_ID').agg({'City':'last'})['City'])\n",
        "final_odi_df['Education'] = list(agg_odi_df.groupby('Driver_ID').agg({'Education_Level':'last'})['Education_Level'])\n",
        "final_odi_df['Income'] = list(agg_odi_df.groupby('Driver_ID').agg({'Income':'last'})['Income'])\n",
        "final_odi_df['Joining_Designation'] = list(agg_odi_df.groupby('Driver_ID').agg({'Joining Designation':'last'})['Joining Designation'])\n",
        "final_odi_df['Grade'] = list(agg_odi_df.groupby('Driver_ID').agg({'Grade':'last'})['Grade'])\n",
        "final_odi_df['Total_Business_Value'] = list(agg_odi_df.groupby('Driver_ID',axis=0).sum('Total Business Value')['Total Business Value'])\n",
        "final_odi_df['Last_Quarterly_Rating'] = list(agg_odi_df.groupby('Driver_ID').agg({'Quarterly Rating':'last'})['Quarterly Rating'])"
      ]
    },
    {
      "cell_type": "code",
      "execution_count": 22,
      "id": "5cab8031",
      "metadata": {
        "id": "5cab8031",
        "outputId": "f9fe3bef-d965-4a03-dac6-064879e2f4ae"
      },
      "outputs": [
        {
          "data": {
            "text/html": [
              "<div>\n",
              "<style scoped>\n",
              "    .dataframe tbody tr th:only-of-type {\n",
              "        vertical-align: middle;\n",
              "    }\n",
              "\n",
              "    .dataframe tbody tr th {\n",
              "        vertical-align: top;\n",
              "    }\n",
              "\n",
              "    .dataframe thead th {\n",
              "        text-align: right;\n",
              "    }\n",
              "</style>\n",
              "<table border=\"1\" class=\"dataframe\">\n",
              "  <thead>\n",
              "    <tr style=\"text-align: right;\">\n",
              "      <th></th>\n",
              "      <th>Driver_ID</th>\n",
              "      <th>Age</th>\n",
              "      <th>Gender</th>\n",
              "      <th>City</th>\n",
              "      <th>Education</th>\n",
              "      <th>Income</th>\n",
              "      <th>Joining_Designation</th>\n",
              "      <th>Grade</th>\n",
              "      <th>Total_Business_Value</th>\n",
              "      <th>Last_Quarterly_Rating</th>\n",
              "    </tr>\n",
              "  </thead>\n",
              "  <tbody>\n",
              "    <tr>\n",
              "      <th>0</th>\n",
              "      <td>1</td>\n",
              "      <td>28.0</td>\n",
              "      <td>0.0</td>\n",
              "      <td>C23</td>\n",
              "      <td>2.0</td>\n",
              "      <td>57387.0</td>\n",
              "      <td>1.0</td>\n",
              "      <td>1.0</td>\n",
              "      <td>1715580.0</td>\n",
              "      <td>2.0</td>\n",
              "    </tr>\n",
              "    <tr>\n",
              "      <th>1</th>\n",
              "      <td>2</td>\n",
              "      <td>31.0</td>\n",
              "      <td>0.0</td>\n",
              "      <td>C7</td>\n",
              "      <td>2.0</td>\n",
              "      <td>67016.0</td>\n",
              "      <td>2.0</td>\n",
              "      <td>2.0</td>\n",
              "      <td>0.0</td>\n",
              "      <td>1.0</td>\n",
              "    </tr>\n",
              "    <tr>\n",
              "      <th>2</th>\n",
              "      <td>4</td>\n",
              "      <td>43.0</td>\n",
              "      <td>0.0</td>\n",
              "      <td>C13</td>\n",
              "      <td>2.0</td>\n",
              "      <td>65603.0</td>\n",
              "      <td>2.0</td>\n",
              "      <td>2.0</td>\n",
              "      <td>350000.0</td>\n",
              "      <td>1.0</td>\n",
              "    </tr>\n",
              "    <tr>\n",
              "      <th>3</th>\n",
              "      <td>5</td>\n",
              "      <td>29.0</td>\n",
              "      <td>0.0</td>\n",
              "      <td>C9</td>\n",
              "      <td>0.0</td>\n",
              "      <td>46368.0</td>\n",
              "      <td>1.0</td>\n",
              "      <td>1.0</td>\n",
              "      <td>120360.0</td>\n",
              "      <td>1.0</td>\n",
              "    </tr>\n",
              "    <tr>\n",
              "      <th>4</th>\n",
              "      <td>6</td>\n",
              "      <td>31.0</td>\n",
              "      <td>1.0</td>\n",
              "      <td>C11</td>\n",
              "      <td>1.0</td>\n",
              "      <td>78728.0</td>\n",
              "      <td>3.0</td>\n",
              "      <td>3.0</td>\n",
              "      <td>1265000.0</td>\n",
              "      <td>2.0</td>\n",
              "    </tr>\n",
              "  </tbody>\n",
              "</table>\n",
              "</div>"
            ],
            "text/plain": [
              "   Driver_ID   Age  Gender City  Education   Income  Joining_Designation  \\\n",
              "0          1  28.0     0.0  C23        2.0  57387.0                  1.0   \n",
              "1          2  31.0     0.0   C7        2.0  67016.0                  2.0   \n",
              "2          4  43.0     0.0  C13        2.0  65603.0                  2.0   \n",
              "3          5  29.0     0.0   C9        0.0  46368.0                  1.0   \n",
              "4          6  31.0     1.0  C11        1.0  78728.0                  3.0   \n",
              "\n",
              "   Grade  Total_Business_Value  Last_Quarterly_Rating  \n",
              "0    1.0             1715580.0                    2.0  \n",
              "1    2.0                   0.0                    1.0  \n",
              "2    2.0              350000.0                    1.0  \n",
              "3    1.0              120360.0                    1.0  \n",
              "4    3.0             1265000.0                    2.0  "
            ]
          },
          "execution_count": 22,
          "metadata": {},
          "output_type": "execute_result"
        }
      ],
      "source": [
        "final_odi_df.head()"
      ]
    },
    {
      "cell_type": "code",
      "execution_count": 23,
      "id": "76611905",
      "metadata": {
        "id": "76611905",
        "outputId": "36801d92-a4e8-432e-8528-43e57295fd0e"
      },
      "outputs": [
        {
          "data": {
            "text/plain": [
              "(2381, 10)"
            ]
          },
          "execution_count": 23,
          "metadata": {},
          "output_type": "execute_result"
        }
      ],
      "source": [
        "final_odi_df.shape"
      ]
    },
    {
      "cell_type": "markdown",
      "id": "b9c65541",
      "metadata": {
        "id": "b9c65541"
      },
      "source": [
        "### Feature Creation"
      ]
    },
    {
      "cell_type": "code",
      "execution_count": 24,
      "id": "a723ed67",
      "metadata": {
        "id": "a723ed67"
      },
      "outputs": [],
      "source": [
        "# New Feature based on whether rating increased quarterly\n",
        "\n",
        "first_quarter = agg_odi_df.groupby([\"Driver_ID\"]).agg({\"Quarterly Rating\": \"first\"})\n",
        "\n",
        "last_quarter = agg_odi_df.groupby([\"Driver_ID\"]).agg({\"Quarterly Rating\": \"last\"})\n",
        "\n",
        "qr = (last_quarter[\"Quarterly Rating\"] > first_quarter[\"Quarterly Rating\"]).reset_index()\n",
        "\n",
        "empid = qr[qr[\"Quarterly Rating\"] == True][\"Driver_ID\"]\n",
        "\n",
        "qrl = []\n",
        "for i in final_odi_df[\"Driver_ID\"]:\n",
        "    if i in empid.values:\n",
        "        qrl.append(1)\n",
        "    else:\n",
        "        qrl.append(0)\n",
        "\n",
        "\n",
        "final_odi_df[\"Quarterly_Rating_Increased\"] = qrl"
      ]
    },
    {
      "cell_type": "code",
      "execution_count": 25,
      "id": "2e275bef",
      "metadata": {
        "id": "2e275bef"
      },
      "outputs": [],
      "source": [
        "# New Feature based on whether there is increment in salary\n",
        "mif = agg_odi_df.groupby([\"Driver_ID\"]).agg({\"Income\": \"first\"})\n",
        "\n",
        "mil = agg_odi_df.groupby([\"Driver_ID\"]).agg({\"Income\": \"last\"})\n",
        "\n",
        "mi_increased = (mil[\"Income\"] > mif[\"Income\"]).reset_index()\n",
        "\n",
        "empid = mi_increased[mi_increased[\"Income\"] == True][\"Driver_ID\"]\n",
        "\n",
        "income = []\n",
        "\n",
        "for i in final_odi_df[\"Driver_ID\"]:\n",
        "    if i in empid.values:\n",
        "        income.append(1)\n",
        "    else:\n",
        "        income.append(0)\n",
        "\n",
        "final_odi_df[\"Salary_Increased\"] = income"
      ]
    },
    {
      "cell_type": "markdown",
      "id": "ff95983d",
      "metadata": {
        "id": "ff95983d"
      },
      "source": [
        "### Target Column Creation"
      ]
    },
    {
      "cell_type": "code",
      "execution_count": 26,
      "id": "72fd9167",
      "metadata": {
        "id": "72fd9167"
      },
      "outputs": [],
      "source": [
        "lwd = (agg_odi_df.groupby([\"Driver_ID\"]).agg({\"LastWorkingDate\": \"last\"})[\"LastWorkingDate\"].isna()).reset_index()\n",
        "\n",
        "lwrid = lwd[lwd[\"LastWorkingDate\"] == True][\"Driver_ID\"]\n",
        "\n",
        "churned = []\n",
        "\n",
        "for i in final_odi_df[\"Driver_ID\"]:\n",
        "    if i in lwrid.values:\n",
        "        churned.append(0)\n",
        "    else:\n",
        "        churned.append(1)\n",
        "\n",
        "final_odi_df[\"Churn_Status\"] = churned"
      ]
    },
    {
      "cell_type": "code",
      "execution_count": 27,
      "id": "d3e11a78",
      "metadata": {
        "id": "d3e11a78",
        "outputId": "782078b1-896f-492d-e66f-35f9c47e13c3"
      },
      "outputs": [
        {
          "data": {
            "text/html": [
              "<div>\n",
              "<style scoped>\n",
              "    .dataframe tbody tr th:only-of-type {\n",
              "        vertical-align: middle;\n",
              "    }\n",
              "\n",
              "    .dataframe tbody tr th {\n",
              "        vertical-align: top;\n",
              "    }\n",
              "\n",
              "    .dataframe thead th {\n",
              "        text-align: right;\n",
              "    }\n",
              "</style>\n",
              "<table border=\"1\" class=\"dataframe\">\n",
              "  <thead>\n",
              "    <tr style=\"text-align: right;\">\n",
              "      <th></th>\n",
              "      <th>Driver_ID</th>\n",
              "      <th>Age</th>\n",
              "      <th>Gender</th>\n",
              "      <th>City</th>\n",
              "      <th>Education</th>\n",
              "      <th>Income</th>\n",
              "      <th>Joining_Designation</th>\n",
              "      <th>Grade</th>\n",
              "      <th>Total_Business_Value</th>\n",
              "      <th>Last_Quarterly_Rating</th>\n",
              "      <th>Quarterly_Rating_Increased</th>\n",
              "      <th>Salary_Increased</th>\n",
              "      <th>Churn_Status</th>\n",
              "    </tr>\n",
              "  </thead>\n",
              "  <tbody>\n",
              "    <tr>\n",
              "      <th>0</th>\n",
              "      <td>1</td>\n",
              "      <td>28.0</td>\n",
              "      <td>0.0</td>\n",
              "      <td>C23</td>\n",
              "      <td>2.0</td>\n",
              "      <td>57387.0</td>\n",
              "      <td>1.0</td>\n",
              "      <td>1.0</td>\n",
              "      <td>1715580.0</td>\n",
              "      <td>2.0</td>\n",
              "      <td>0</td>\n",
              "      <td>0</td>\n",
              "      <td>1</td>\n",
              "    </tr>\n",
              "    <tr>\n",
              "      <th>1</th>\n",
              "      <td>2</td>\n",
              "      <td>31.0</td>\n",
              "      <td>0.0</td>\n",
              "      <td>C7</td>\n",
              "      <td>2.0</td>\n",
              "      <td>67016.0</td>\n",
              "      <td>2.0</td>\n",
              "      <td>2.0</td>\n",
              "      <td>0.0</td>\n",
              "      <td>1.0</td>\n",
              "      <td>0</td>\n",
              "      <td>0</td>\n",
              "      <td>0</td>\n",
              "    </tr>\n",
              "    <tr>\n",
              "      <th>2</th>\n",
              "      <td>4</td>\n",
              "      <td>43.0</td>\n",
              "      <td>0.0</td>\n",
              "      <td>C13</td>\n",
              "      <td>2.0</td>\n",
              "      <td>65603.0</td>\n",
              "      <td>2.0</td>\n",
              "      <td>2.0</td>\n",
              "      <td>350000.0</td>\n",
              "      <td>1.0</td>\n",
              "      <td>0</td>\n",
              "      <td>0</td>\n",
              "      <td>1</td>\n",
              "    </tr>\n",
              "    <tr>\n",
              "      <th>3</th>\n",
              "      <td>5</td>\n",
              "      <td>29.0</td>\n",
              "      <td>0.0</td>\n",
              "      <td>C9</td>\n",
              "      <td>0.0</td>\n",
              "      <td>46368.0</td>\n",
              "      <td>1.0</td>\n",
              "      <td>1.0</td>\n",
              "      <td>120360.0</td>\n",
              "      <td>1.0</td>\n",
              "      <td>0</td>\n",
              "      <td>0</td>\n",
              "      <td>1</td>\n",
              "    </tr>\n",
              "    <tr>\n",
              "      <th>4</th>\n",
              "      <td>6</td>\n",
              "      <td>31.0</td>\n",
              "      <td>1.0</td>\n",
              "      <td>C11</td>\n",
              "      <td>1.0</td>\n",
              "      <td>78728.0</td>\n",
              "      <td>3.0</td>\n",
              "      <td>3.0</td>\n",
              "      <td>1265000.0</td>\n",
              "      <td>2.0</td>\n",
              "      <td>1</td>\n",
              "      <td>0</td>\n",
              "      <td>0</td>\n",
              "    </tr>\n",
              "  </tbody>\n",
              "</table>\n",
              "</div>"
            ],
            "text/plain": [
              "   Driver_ID   Age  Gender City  Education   Income  Joining_Designation  \\\n",
              "0          1  28.0     0.0  C23        2.0  57387.0                  1.0   \n",
              "1          2  31.0     0.0   C7        2.0  67016.0                  2.0   \n",
              "2          4  43.0     0.0  C13        2.0  65603.0                  2.0   \n",
              "3          5  29.0     0.0   C9        0.0  46368.0                  1.0   \n",
              "4          6  31.0     1.0  C11        1.0  78728.0                  3.0   \n",
              "\n",
              "   Grade  Total_Business_Value  Last_Quarterly_Rating  \\\n",
              "0    1.0             1715580.0                    2.0   \n",
              "1    2.0                   0.0                    1.0   \n",
              "2    2.0              350000.0                    1.0   \n",
              "3    1.0              120360.0                    1.0   \n",
              "4    3.0             1265000.0                    2.0   \n",
              "\n",
              "   Quarterly_Rating_Increased  Salary_Increased  Churn_Status  \n",
              "0                           0                 0             1  \n",
              "1                           0                 0             0  \n",
              "2                           0                 0             1  \n",
              "3                           0                 0             1  \n",
              "4                           1                 0             0  "
            ]
          },
          "execution_count": 27,
          "metadata": {},
          "output_type": "execute_result"
        }
      ],
      "source": [
        "final_odi_df.head()"
      ]
    },
    {
      "cell_type": "code",
      "execution_count": 28,
      "id": "36a0b402",
      "metadata": {
        "id": "36a0b402",
        "outputId": "f5e38aa9-696b-4605-f59f-d9cdfeea85f9"
      },
      "outputs": [
        {
          "data": {
            "text/plain": [
              "(2381, 13)"
            ]
          },
          "execution_count": 28,
          "metadata": {},
          "output_type": "execute_result"
        }
      ],
      "source": [
        "final_odi_df.shape"
      ]
    },
    {
      "cell_type": "code",
      "execution_count": 29,
      "id": "e3c22ce0",
      "metadata": {
        "id": "e3c22ce0",
        "outputId": "0809db74-d72f-422f-8e5f-88817ad5654c"
      },
      "outputs": [
        {
          "data": {
            "text/html": [
              "<div>\n",
              "<style scoped>\n",
              "    .dataframe tbody tr th:only-of-type {\n",
              "        vertical-align: middle;\n",
              "    }\n",
              "\n",
              "    .dataframe tbody tr th {\n",
              "        vertical-align: top;\n",
              "    }\n",
              "\n",
              "    .dataframe thead th {\n",
              "        text-align: right;\n",
              "    }\n",
              "</style>\n",
              "<table border=\"1\" class=\"dataframe\">\n",
              "  <thead>\n",
              "    <tr style=\"text-align: right;\">\n",
              "      <th></th>\n",
              "      <th>count</th>\n",
              "      <th>unique</th>\n",
              "      <th>top</th>\n",
              "      <th>freq</th>\n",
              "      <th>mean</th>\n",
              "      <th>std</th>\n",
              "      <th>min</th>\n",
              "      <th>25%</th>\n",
              "      <th>50%</th>\n",
              "      <th>75%</th>\n",
              "      <th>max</th>\n",
              "    </tr>\n",
              "  </thead>\n",
              "  <tbody>\n",
              "    <tr>\n",
              "      <th>Age</th>\n",
              "      <td>2381.0</td>\n",
              "      <td>NaN</td>\n",
              "      <td>NaN</td>\n",
              "      <td>NaN</td>\n",
              "      <td>33.770181</td>\n",
              "      <td>5.933265</td>\n",
              "      <td>21.0</td>\n",
              "      <td>30.0</td>\n",
              "      <td>33.0</td>\n",
              "      <td>37.0</td>\n",
              "      <td>58.0</td>\n",
              "    </tr>\n",
              "    <tr>\n",
              "      <th>Gender</th>\n",
              "      <td>2381.0</td>\n",
              "      <td>NaN</td>\n",
              "      <td>NaN</td>\n",
              "      <td>NaN</td>\n",
              "      <td>0.410584</td>\n",
              "      <td>0.491496</td>\n",
              "      <td>0.0</td>\n",
              "      <td>0.0</td>\n",
              "      <td>0.0</td>\n",
              "      <td>1.0</td>\n",
              "      <td>1.0</td>\n",
              "    </tr>\n",
              "    <tr>\n",
              "      <th>City</th>\n",
              "      <td>2381</td>\n",
              "      <td>29</td>\n",
              "      <td>C20</td>\n",
              "      <td>152</td>\n",
              "      <td>NaN</td>\n",
              "      <td>NaN</td>\n",
              "      <td>NaN</td>\n",
              "      <td>NaN</td>\n",
              "      <td>NaN</td>\n",
              "      <td>NaN</td>\n",
              "      <td>NaN</td>\n",
              "    </tr>\n",
              "    <tr>\n",
              "      <th>Education</th>\n",
              "      <td>2381.0</td>\n",
              "      <td>NaN</td>\n",
              "      <td>NaN</td>\n",
              "      <td>NaN</td>\n",
              "      <td>1.00756</td>\n",
              "      <td>0.81629</td>\n",
              "      <td>0.0</td>\n",
              "      <td>0.0</td>\n",
              "      <td>1.0</td>\n",
              "      <td>2.0</td>\n",
              "      <td>2.0</td>\n",
              "    </tr>\n",
              "    <tr>\n",
              "      <th>Income</th>\n",
              "      <td>2381.0</td>\n",
              "      <td>NaN</td>\n",
              "      <td>NaN</td>\n",
              "      <td>NaN</td>\n",
              "      <td>59334.157077</td>\n",
              "      <td>28383.666384</td>\n",
              "      <td>10747.0</td>\n",
              "      <td>39104.0</td>\n",
              "      <td>55315.0</td>\n",
              "      <td>75986.0</td>\n",
              "      <td>188418.0</td>\n",
              "    </tr>\n",
              "    <tr>\n",
              "      <th>Joining_Designation</th>\n",
              "      <td>2381.0</td>\n",
              "      <td>NaN</td>\n",
              "      <td>NaN</td>\n",
              "      <td>NaN</td>\n",
              "      <td>1.820244</td>\n",
              "      <td>0.841433</td>\n",
              "      <td>1.0</td>\n",
              "      <td>1.0</td>\n",
              "      <td>2.0</td>\n",
              "      <td>2.0</td>\n",
              "      <td>5.0</td>\n",
              "    </tr>\n",
              "    <tr>\n",
              "      <th>Grade</th>\n",
              "      <td>2381.0</td>\n",
              "      <td>NaN</td>\n",
              "      <td>NaN</td>\n",
              "      <td>NaN</td>\n",
              "      <td>2.096598</td>\n",
              "      <td>0.941522</td>\n",
              "      <td>1.0</td>\n",
              "      <td>1.0</td>\n",
              "      <td>2.0</td>\n",
              "      <td>3.0</td>\n",
              "      <td>5.0</td>\n",
              "    </tr>\n",
              "    <tr>\n",
              "      <th>Total_Business_Value</th>\n",
              "      <td>2381.0</td>\n",
              "      <td>NaN</td>\n",
              "      <td>NaN</td>\n",
              "      <td>NaN</td>\n",
              "      <td>4586741.822764</td>\n",
              "      <td>9127115.313446</td>\n",
              "      <td>-1385530.0</td>\n",
              "      <td>0.0</td>\n",
              "      <td>817680.0</td>\n",
              "      <td>4173650.0</td>\n",
              "      <td>95331060.0</td>\n",
              "    </tr>\n",
              "    <tr>\n",
              "      <th>Last_Quarterly_Rating</th>\n",
              "      <td>2381.0</td>\n",
              "      <td>NaN</td>\n",
              "      <td>NaN</td>\n",
              "      <td>NaN</td>\n",
              "      <td>1.427971</td>\n",
              "      <td>0.809839</td>\n",
              "      <td>1.0</td>\n",
              "      <td>1.0</td>\n",
              "      <td>1.0</td>\n",
              "      <td>2.0</td>\n",
              "      <td>4.0</td>\n",
              "    </tr>\n",
              "    <tr>\n",
              "      <th>Quarterly_Rating_Increased</th>\n",
              "      <td>2381.0</td>\n",
              "      <td>NaN</td>\n",
              "      <td>NaN</td>\n",
              "      <td>NaN</td>\n",
              "      <td>0.150357</td>\n",
              "      <td>0.357496</td>\n",
              "      <td>0.0</td>\n",
              "      <td>0.0</td>\n",
              "      <td>0.0</td>\n",
              "      <td>0.0</td>\n",
              "      <td>1.0</td>\n",
              "    </tr>\n",
              "    <tr>\n",
              "      <th>Salary_Increased</th>\n",
              "      <td>2381.0</td>\n",
              "      <td>NaN</td>\n",
              "      <td>NaN</td>\n",
              "      <td>NaN</td>\n",
              "      <td>0.01806</td>\n",
              "      <td>0.133195</td>\n",
              "      <td>0.0</td>\n",
              "      <td>0.0</td>\n",
              "      <td>0.0</td>\n",
              "      <td>0.0</td>\n",
              "      <td>1.0</td>\n",
              "    </tr>\n",
              "    <tr>\n",
              "      <th>Churn_Status</th>\n",
              "      <td>2381.0</td>\n",
              "      <td>NaN</td>\n",
              "      <td>NaN</td>\n",
              "      <td>NaN</td>\n",
              "      <td>0.678706</td>\n",
              "      <td>0.467071</td>\n",
              "      <td>0.0</td>\n",
              "      <td>0.0</td>\n",
              "      <td>1.0</td>\n",
              "      <td>1.0</td>\n",
              "      <td>1.0</td>\n",
              "    </tr>\n",
              "  </tbody>\n",
              "</table>\n",
              "</div>"
            ],
            "text/plain": [
              "                             count unique  top freq            mean  \\\n",
              "Age                         2381.0    NaN  NaN  NaN       33.770181   \n",
              "Gender                      2381.0    NaN  NaN  NaN        0.410584   \n",
              "City                          2381     29  C20  152             NaN   \n",
              "Education                   2381.0    NaN  NaN  NaN         1.00756   \n",
              "Income                      2381.0    NaN  NaN  NaN    59334.157077   \n",
              "Joining_Designation         2381.0    NaN  NaN  NaN        1.820244   \n",
              "Grade                       2381.0    NaN  NaN  NaN        2.096598   \n",
              "Total_Business_Value        2381.0    NaN  NaN  NaN  4586741.822764   \n",
              "Last_Quarterly_Rating       2381.0    NaN  NaN  NaN        1.427971   \n",
              "Quarterly_Rating_Increased  2381.0    NaN  NaN  NaN        0.150357   \n",
              "Salary_Increased            2381.0    NaN  NaN  NaN         0.01806   \n",
              "Churn_Status                2381.0    NaN  NaN  NaN        0.678706   \n",
              "\n",
              "                                       std        min      25%       50%  \\\n",
              "Age                               5.933265       21.0     30.0      33.0   \n",
              "Gender                            0.491496        0.0      0.0       0.0   \n",
              "City                                   NaN        NaN      NaN       NaN   \n",
              "Education                          0.81629        0.0      0.0       1.0   \n",
              "Income                        28383.666384    10747.0  39104.0   55315.0   \n",
              "Joining_Designation               0.841433        1.0      1.0       2.0   \n",
              "Grade                             0.941522        1.0      1.0       2.0   \n",
              "Total_Business_Value        9127115.313446 -1385530.0      0.0  817680.0   \n",
              "Last_Quarterly_Rating             0.809839        1.0      1.0       1.0   \n",
              "Quarterly_Rating_Increased        0.357496        0.0      0.0       0.0   \n",
              "Salary_Increased                  0.133195        0.0      0.0       0.0   \n",
              "Churn_Status                      0.467071        0.0      0.0       1.0   \n",
              "\n",
              "                                  75%         max  \n",
              "Age                              37.0        58.0  \n",
              "Gender                            1.0         1.0  \n",
              "City                              NaN         NaN  \n",
              "Education                         2.0         2.0  \n",
              "Income                        75986.0    188418.0  \n",
              "Joining_Designation               2.0         5.0  \n",
              "Grade                             3.0         5.0  \n",
              "Total_Business_Value        4173650.0  95331060.0  \n",
              "Last_Quarterly_Rating             2.0         4.0  \n",
              "Quarterly_Rating_Increased        0.0         1.0  \n",
              "Salary_Increased                  0.0         1.0  \n",
              "Churn_Status                      1.0         1.0  "
            ]
          },
          "execution_count": 29,
          "metadata": {},
          "output_type": "execute_result"
        }
      ],
      "source": [
        "final_odi_df.iloc[:,1:].describe(include='all').T"
      ]
    },
    {
      "cell_type": "markdown",
      "id": "f9ca9bae",
      "metadata": {
        "id": "f9ca9bae"
      },
      "source": [
        "## Non-Visual Analysis"
      ]
    },
    {
      "cell_type": "code",
      "execution_count": 30,
      "id": "9999df27",
      "metadata": {
        "id": "9999df27",
        "outputId": "9dcb85ab-d3bc-4352-86e2-a4804766703a"
      },
      "outputs": [
        {
          "data": {
            "text/plain": [
              "Churn_Status\n",
              "1    1616\n",
              "0     765\n",
              "Name: count, dtype: int64"
            ]
          },
          "execution_count": 30,
          "metadata": {},
          "output_type": "execute_result"
        }
      ],
      "source": [
        "\n",
        "final_odi_df['Churn_Status'].value_counts()"
      ]
    },
    {
      "cell_type": "markdown",
      "id": "faad62c6",
      "metadata": {
        "id": "faad62c6"
      },
      "source": [
        "- Out of 2381 drivers, 1616 drivers left the organization which implies drivers who left are almost double the drivers  still working in the organization.\n",
        "- Hence,majority of data is having churned(left) drivers resulting in data imbalance."
      ]
    },
    {
      "cell_type": "code",
      "execution_count": 31,
      "id": "18f43947",
      "metadata": {
        "id": "18f43947",
        "outputId": "3f4fc503-376d-4228-a1e3-a6142b2dadfe"
      },
      "outputs": [
        {
          "data": {
            "text/plain": [
              "Churn_Status\n",
              "1    68.0\n",
              "0    32.0\n",
              "Name: proportion, dtype: float64"
            ]
          },
          "execution_count": 31,
          "metadata": {},
          "output_type": "execute_result"
        }
      ],
      "source": [
        "np.round(final_odi_df['Churn_Status'].value_counts(normalize=True)*100)"
      ]
    },
    {
      "cell_type": "markdown",
      "id": "943ecdc7",
      "metadata": {
        "id": "943ecdc7"
      },
      "source": [
        "\n",
        "\n",
        "- Around 68% of drivers left the organization."
      ]
    },
    {
      "cell_type": "code",
      "execution_count": 32,
      "id": "4acaabd9",
      "metadata": {
        "id": "4acaabd9",
        "outputId": "bc5ee40d-e994-4717-eee7-3fd8291ff69c",
        "scrolled": true
      },
      "outputs": [
        {
          "name": "stdout",
          "output_type": "stream",
          "text": [
            "\u001b[1;4mDistribution of Gender\u001b[0m\n",
            "Gender\n",
            "0.0    1400\n",
            "1.0     975\n",
            "0.6       3\n",
            "0.2       2\n",
            "0.4       1\n",
            "Name: count, dtype: int64\n",
            "\u001b[1;4mDistribution of City\u001b[0m\n",
            "City\n",
            "C20    152\n",
            "C15    101\n",
            "C29     96\n",
            "C26     93\n",
            "C8      89\n",
            "C27     89\n",
            "C10     86\n",
            "C16     84\n",
            "C22     82\n",
            "C3      82\n",
            "C28     82\n",
            "C12     81\n",
            "C5      80\n",
            "C1      80\n",
            "C21     79\n",
            "C14     79\n",
            "C6      78\n",
            "C4      77\n",
            "C7      76\n",
            "C9      75\n",
            "C25     74\n",
            "C23     74\n",
            "C24     73\n",
            "C19     72\n",
            "C2      72\n",
            "C17     71\n",
            "C13     71\n",
            "C18     69\n",
            "C11     64\n",
            "Name: count, dtype: int64\n",
            "\u001b[1;4mDistribution of Education\u001b[0m\n",
            "Education\n",
            "2.0    802\n",
            "1.0    795\n",
            "0.0    784\n",
            "Name: count, dtype: int64\n",
            "\u001b[1;4mDistribution of Joining_Designation\u001b[0m\n",
            "Joining_Designation\n",
            "1.0    1026\n",
            "2.0     815\n",
            "3.0     493\n",
            "4.0      36\n",
            "5.0      11\n",
            "Name: count, dtype: int64\n",
            "\u001b[1;4mDistribution of Grade\u001b[0m\n",
            "Grade\n",
            "2.0    855\n",
            "1.0    741\n",
            "3.0    623\n",
            "4.0    138\n",
            "5.0     24\n",
            "Name: count, dtype: int64\n",
            "\u001b[1;4mDistribution of Last_Quarterly_Rating\u001b[0m\n",
            "Last_Quarterly_Rating\n",
            "1.0    1744\n",
            "2.0     362\n",
            "3.0     168\n",
            "4.0     107\n",
            "Name: count, dtype: int64\n",
            "\u001b[1;4mDistribution of Quarterly_Rating_Increased\u001b[0m\n",
            "Quarterly_Rating_Increased\n",
            "0    2023\n",
            "1     358\n",
            "Name: count, dtype: int64\n",
            "\u001b[1;4mDistribution of Salary_Increased\u001b[0m\n",
            "Salary_Increased\n",
            "0    2338\n",
            "1      43\n",
            "Name: count, dtype: int64\n"
          ]
        }
      ],
      "source": [
        "categories = final_odi_df.drop(['Driver_ID','Age','Income','Total_Business_Value','Churn_Status'],axis=1).columns\n",
        "for each_category in categories:\n",
        "    print(f'\\033[1;4mDistribution of {each_category}\\033[0m')\n",
        "    print(final_odi_df[each_category].value_counts())"
      ]
    },
    {
      "cell_type": "markdown",
      "id": "4346aef2",
      "metadata": {
        "id": "4346aef2"
      },
      "source": [
        "- Out of 2381 employees, 1400 employees are of the Male gender and 975 are females.\n",
        "- Majority of the  employees (152 out of 2381) are from city C20 followed by employees (101 out of 2381) from city C15.\n",
        "- Majority of the employees have their education as Graduate (802 out of 2381) followed by 12th completed ones  (795  out of 2381).\n",
        "- Out of 2381 employees, 1026 employees had joining designation as  1 and  815 employees had joining designation as 2\n",
        "- Out of 2381 employees, 855 employees had their grade as 2 at the time of reporting and 741 had grade 1.\n",
        "- Out of 2381 employees, 1744 employees had their last quarterly rating as 1.0.Noone got rating of 5(0%)\n",
        "- Out of 2381 employees, the quarterly rating has not increased for 2023 employees.\n",
        "- Out of 2381 employees, the monthly average salary has not increased for 2338 employees."
      ]
    },
    {
      "cell_type": "code",
      "execution_count": 33,
      "id": "b06c6fd5",
      "metadata": {
        "id": "b06c6fd5",
        "outputId": "77c61241-35b5-420c-a865-70973c7894b9"
      },
      "outputs": [
        {
          "data": {
            "text/plain": [
              "Quarterly_Rating_Increased  Salary_Increased\n",
              "0                           0                   1994\n",
              "1                           0                    344\n",
              "0                           1                     29\n",
              "1                           1                     14\n",
              "Name: count, dtype: int64"
            ]
          },
          "execution_count": 33,
          "metadata": {},
          "output_type": "execute_result"
        }
      ],
      "source": [
        "final_odi_df[['Quarterly_Rating_Increased','Salary_Increased']].value_counts()"
      ]
    },
    {
      "cell_type": "markdown",
      "id": "45e5d9c1",
      "metadata": {
        "id": "45e5d9c1"
      },
      "source": [
        "- Majority of the employees were provided neither salary increment nor quarterly rating improvement.\n",
        "- 344 Employees were provided Quarterly rating  improvement but not salary increment and 29 were provided viceversa.Hence,the organization prefered Quarterly Rating Improvement to Salary Increment."
      ]
    },
    {
      "cell_type": "code",
      "execution_count": 34,
      "id": "73034693",
      "metadata": {
        "id": "73034693",
        "outputId": "f9777821-41e7-4d9f-ab8a-48bfb5fe7921"
      },
      "outputs": [
        {
          "data": {
            "text/plain": [
              "Quarterly_Rating_Increased  Salary_Increased  Churn_Status\n",
              "0                           0                 1               1531\n",
              "                                              0                463\n",
              "                            1                 0                 26\n",
              "                                              1                  3\n",
              "1                           0                 0                262\n",
              "                                              1                 82\n",
              "                            1                 0                 14\n",
              "Name: count, dtype: int64"
            ]
          },
          "execution_count": 34,
          "metadata": {},
          "output_type": "execute_result"
        }
      ],
      "source": [
        "final_odi_df.groupby(['Quarterly_Rating_Increased','Salary_Increased'])['Churn_Status'].value_counts()"
      ]
    },
    {
      "cell_type": "markdown",
      "id": "f2d111f8",
      "metadata": {
        "id": "f2d111f8"
      },
      "source": [
        "- Most of the employees who left the organization were neither provided salary increment nor quarterly rating improvement   followed by those who were provided Quarterly rating improvement but not salary increment.\n",
        "- None of the employees left the organization who were provided with both salary increment and quarterly rating improvement."
      ]
    },
    {
      "cell_type": "markdown",
      "id": "55924205",
      "metadata": {
        "id": "55924205"
      },
      "source": [
        "## Visual Analysis"
      ]
    },
    {
      "cell_type": "code",
      "execution_count": 35,
      "id": "5d999fe4",
      "metadata": {
        "id": "5d999fe4",
        "outputId": "2e293787-d04b-480b-993f-b36dd2caac6a"
      },
      "outputs": [
        {
          "data": {
            "image/png": "[encoded data removed]",
            "text/plain": [
              "<Figure size 1200x1400 with 7 Axes>"
            ]
          },
          "metadata": {},
          "output_type": "display_data"
        }
      ],
      "source": [
        "cols = ['Gender','Education','Joining_Designation','Grade','Last_Quarterly_Rating','Quarterly_Rating_Increased',\n",
        "        'Salary_Increased']\n",
        "plt.subplots(figsize=(12,14))\n",
        "for i in range(len(cols)):\n",
        "    plt.subplot(330+i+1)\n",
        "    final_odi_df[cols[i]].value_counts(normalize=True).plot.bar(title=f'{cols[i]} Distribution')"
      ]
    },
    {
      "cell_type": "markdown",
      "id": "231c7874",
      "metadata": {
        "id": "231c7874"
      },
      "source": [
        "- Around 59% employees are of the Male gender.\n",
        "- The proportion of the employees who have completed their Graduate and 12th is approximately same.\n",
        "- Around 43% of the employees had joining designation as 1.\n",
        "- At the time of reporting, around 36% of the employees had their grade as 2.\n",
        "- Around 73% of the employees had their last quarterly rating as 1.\n",
        "- The quarterly rating has not increased for around 85% employees.\n",
        "- The Monthly average salary has not increased for around 98% employees."
      ]
    },
    {
      "cell_type": "code",
      "execution_count": 36,
      "id": "b9a33959",
      "metadata": {
        "id": "b9a33959",
        "outputId": "ceb22d99-3229-403a-c1af-bc419bfa3bfa"
      },
      "outputs": [
        {
          "data": {
            "text/plain": [
              "<Axes: title={'center': 'City Distribution'}, xlabel='City'>"
            ]
          },
          "execution_count": 36,
          "metadata": {},
          "output_type": "execute_result"
        },
        {
          "data": {
            "image/png": "[encoded data removed]",
            "text/plain": [
              "<Figure size 640x480 with 1 Axes>"
            ]
          },
          "metadata": {},
          "output_type": "display_data"
        }
      ],
      "source": [
        "final_odi_df['City'].value_counts(normalize=True).plot.bar(title='City Distribution')"
      ]
    },
    {
      "cell_type": "markdown",
      "id": "b8477666",
      "metadata": {
        "id": "b8477666"
      },
      "source": [
        "- Majority of the employees (6.4%) operates in C20 followed by employees from C15 (4.2%)\n",
        "- Very few employees (2.6%) operates in C11."
      ]
    },
    {
      "cell_type": "code",
      "execution_count": 37,
      "id": "4be7c410",
      "metadata": {
        "id": "4be7c410",
        "outputId": "c6345ebe-3ff6-41c1-eefc-c902dcfaf8cb"
      },
      "outputs": [
        {
          "data": {
            "image/png": "[encoded data removed]",
            "text/plain": [
              "<Figure size 640x480 with 1 Axes>"
            ]
          },
          "metadata": {},
          "output_type": "display_data"
        },
        {
          "data": {
            "image/png": "[encoded data removed]",
            "text/plain": [
              "<Figure size 640x480 with 1 Axes>"
            ]
          },
          "metadata": {},
          "output_type": "display_data"
        },
        {
          "data": {
            "image/png": "[encoded data removed]",
            "text/plain": [
              "<Figure size 640x480 with 1 Axes>"
            ]
          },
          "metadata": {},
          "output_type": "display_data"
        }
      ],
      "source": [
        "'''Age Distribution of Employees'''\n",
        "sns.distplot (final_odi_df['Age'])\n",
        "plt.title('Age Distribution')\n",
        "plt.show()\n",
        "\n",
        "'''Income Distribution of Employees'''\n",
        "sns.distplot(final_odi_df['Income'])\n",
        "plt.title('Income Distribution')\n",
        "plt.show()\n",
        "\n",
        "'''Total_Business_Value Distribution of Employees'''\n",
        "sns.distplot(final_odi_df['Total_Business_Value'])\n",
        "plt.title('Total Business Value Distribution')\n",
        "plt.show()"
      ]
    },
    {
      "cell_type": "markdown",
      "id": "e34e9806",
      "metadata": {
        "id": "e34e9806"
      },
      "source": [
        "- The distribution of Total_Business_Value is the most right skewed followed by Income and Age Distributions."
      ]
    },
    {
      "cell_type": "code",
      "execution_count": 38,
      "id": "00189305",
      "metadata": {
        "id": "00189305",
        "outputId": "abe5c8d7-bb37-4db7-b59c-61ceaf70b12f"
      },
      "outputs": [
        {
          "data": {
            "image/png": "[encoded data removed]",
            "text/plain": [
              "<Figure size 640x480 with 1 Axes>"
            ]
          },
          "metadata": {},
          "output_type": "display_data"
        },
        {
          "data": {
            "image/png": "[encoded data removed]",
            "text/plain": [
              "<Figure size 640x480 with 1 Axes>"
            ]
          },
          "metadata": {},
          "output_type": "display_data"
        },
        {
          "data": {
            "image/png": "[encoded data removed]",
            "text/plain": [
              "<Figure size 640x480 with 1 Axes>"
            ]
          },
          "metadata": {},
          "output_type": "display_data"
        }
      ],
      "source": [
        "'''Boxplot of Age,Income and Total Business Value '''\n",
        "\n",
        "final_odi_df['Age'].plot.box(title='Boxplot of Age')\n",
        "plt.show()\n",
        "\n",
        "final_odi_df['Income'].plot.box(title='Boxplot of Income')\n",
        "plt.show()\n",
        "\n",
        "final_odi_df['Total_Business_Value'].plot.box(title='Boxplot of Total_Business Value')\n",
        "plt.show()"
      ]
    },
    {
      "cell_type": "markdown",
      "id": "78401537",
      "metadata": {
        "id": "78401537"
      },
      "source": [
        "- Total_Business_Value has the most number of outliers followed by Income and Age."
      ]
    },
    {
      "cell_type": "code",
      "execution_count": 39,
      "id": "4c181933",
      "metadata": {
        "id": "4c181933",
        "outputId": "1320a0bf-71e8-4859-e678-0c7525eaeec8"
      },
      "outputs": [
        {
          "data": {
            "text/plain": [
              "<Axes: xlabel='Last_Quarterly_Rating', ylabel='Age'>"
            ]
          },
          "execution_count": 39,
          "metadata": {},
          "output_type": "execute_result"
        },
        {
          "data": {
            "image/png": "[encoded data removed]",
            "text/plain": [
              "<Figure size 640x480 with 1 Axes>"
            ]
          },
          "metadata": {},
          "output_type": "display_data"
        }
      ],
      "source": [
        "sns.boxplot(data= final_odi_df,x='Last_Quarterly_Rating',y='Age')"
      ]
    },
    {
      "cell_type": "markdown",
      "id": "f838b85c",
      "metadata": {
        "id": "f838b85c"
      },
      "source": [
        "- Median Age of Employees is higher for Quarterly Rating of 4 and lower for Quarterly Rating of 1.Hence,lesser  age people are\n",
        "  more likely to get lower rating.\n",
        "- More Oultiers above age 50  in Quarterly Rating 1 among all quarterly ratings indicate 50 above age people are lesser among those who got quarterly raing of 1.0."
      ]
    },
    {
      "cell_type": "code",
      "execution_count": 40,
      "id": "4550cfb1",
      "metadata": {
        "id": "4550cfb1",
        "outputId": "54f0aecb-9a3c-47fa-a9fa-c87bcece8acb"
      },
      "outputs": [
        {
          "data": {
            "image/png": "[encoded data removed]",
            "text/plain": [
              "<Figure size 1500x2400 with 8 Axes>"
            ]
          },
          "metadata": {},
          "output_type": "display_data"
        }
      ],
      "source": [
        "figure,axes=plt.subplots(4,2,figsize=(15,24))\n",
        "\n",
        "# Gender vs Churn_Status\n",
        "gender = pd.crosstab(final_odi_df['Gender'],final_odi_df['Churn_Status'])\n",
        "gender.div(gender.sum(1).astype(float),axis=0).plot(kind='bar',stacked=False,ax=axes[0,0],title='Gender with Churn Status')\n",
        "\n",
        "# Education vs Churn_Status\n",
        "education = pd.crosstab(final_odi_df['Education'],final_odi_df['Churn_Status'])\n",
        "education.div(education.sum(1).astype(float),axis=0).plot(kind='bar',stacked=True,ax=axes[0,1],title=\"Education with Churn Status\")\n",
        "\n",
        "# Joining Designation vs Churn_Status\n",
        "jde = pd.crosstab(final_odi_df['Joining_Designation'],final_odi_df['Churn_Status'])\n",
        "jde.div(jde.sum(1).astype(float),axis=0).plot(kind='bar',stacked=True,ax=axes[1,0],title='Joining Designation with Churn Status')\n",
        "\n",
        "# Grade vs Churn_Status\n",
        "gd = pd.crosstab(final_odi_df['Grade'],final_odi_df['Churn_Status'])\n",
        "gd.div(gd.sum(1).astype(float),axis=0).plot(kind='bar',stacked=True,ax=axes[1,1],title=\"Grade with Churn Status\")\n",
        "\n",
        "# Last_Quarterly_Rating vs Churn_Status\n",
        "lqrtng = pd.crosstab(final_odi_df['Last_Quarterly_Rating'],final_odi_df['Churn_Status'])\n",
        "lqrtng.div(lqrtng.sum(1).astype(float),axis=0).plot(kind='bar',stacked=True,ax=axes[2,0],title=\"Last Quarterly Rating with Churn_Status\")\n",
        "\n",
        "# Quarterly_Rating_Increased vs Churn_Status\n",
        "qrtngi = pd.crosstab(final_odi_df['Quarterly_Rating_Increased'],final_odi_df['Churn_Status'])\n",
        "qrtngi.div(qrtngi.sum(1).astype(float),axis=0).plot(kind='bar',stacked=True,ax=axes[2,1],title=\"Quarterly Rating Increased with Churn_Status\")\n",
        "\n",
        "# Salary Increased vs Churn_Status\n",
        "slryi = pd.crosstab(final_odi_df['Salary_Increased'],final_odi_df['Churn_Status'])\n",
        "slryi.div(slryi.sum(1).astype(float),axis=0).plot(kind='bar',stacked=True,ax=axes[3,0],title=\"Salary Increased with Churn_Status\")\n",
        "\n",
        "axes[3,1].set_axis_off()\n",
        "plt.tight_layout(pad=3)"
      ]
    },
    {
      "cell_type": "markdown",
      "id": "2ccec0ec",
      "metadata": {
        "id": "2ccec0ec"
      },
      "source": [
        "- The ratio of employees who left the company to those working in the company is same for Male and Female.\n",
        "- The ratio of employees who left the company to those working in the company is same for three levels of Education.\n",
        "- The employees who have their joining designation as 1 or 5  are more likely to leave the organization.\n",
        "- The employees who have their grade as 1 or 2 at the time of reporting are more likely to leave the organization.\n",
        "- The employees who have their last quarterly raing as 1 or 2 at the time ofreporting are less likely to leave the organization.\n",
        "- The employees whose salary  has not increased and quarterly rating not improved are more likely to leave the organization."
      ]
    },
    {
      "cell_type": "code",
      "execution_count": 41,
      "id": "4975243e",
      "metadata": {
        "id": "4975243e",
        "outputId": "9b10b0b0-9e12-4b17-a78e-e4c63f109928"
      },
      "outputs": [
        {
          "data": {
            "image/png": "[encoded data removed]",
            "text/plain": [
              "<Figure size 640x480 with 1 Axes>"
            ]
          },
          "metadata": {},
          "output_type": "display_data"
        }
      ],
      "source": [
        "city = pd.crosstab(final_odi_df['City'],final_odi_df['Churn_Status'])\n",
        "city.div(city.sum(1).astype(float),axis=0).plot(kind='bar',stacked=True,title='City with Churn_Status')\n",
        "plt.legend(title='Churn_Status',bbox_to_anchor=(1.05, 1), loc='upper left')\n",
        "plt.tight_layout()"
      ]
    },
    {
      "cell_type": "markdown",
      "id": "eb47a7f9",
      "metadata": {
        "id": "eb47a7f9"
      },
      "source": [
        "- The employees who operates in City C13 are more likely to leave the oraganization.\n",
        "- The employees who operates in City C29 are less likely to leave the organization."
      ]
    },
    {
      "cell_type": "code",
      "execution_count": 42,
      "id": "42e5924a",
      "metadata": {
        "id": "42e5924a",
        "outputId": "f64a9144-f9b9-46e9-fe07-6945b1241c47"
      },
      "outputs": [
        {
          "data": {
            "image/png": "[encoded data removed]",
            "text/plain": [
              "<Figure size 640x480 with 1 Axes>"
            ]
          },
          "metadata": {},
          "output_type": "display_data"
        }
      ],
      "source": [
        "#Binning the Age into categories\n",
        "bins = [21,31,51,float('inf')]\n",
        "labels = ['Young','Middle-aged','Senior']\n",
        "final_odi_df['Age_Bin'] = pd.cut(final_odi_df['Age'],bins=bins,labels=labels)\n",
        "#Age feature with Churn_Status\n",
        "agebin = pd.crosstab(final_odi_df['Age_Bin'],final_odi_df['Churn_Status'])\n",
        "agebin.div(agebin.sum(1).astype(float),axis=0).plot(kind='bar',title='Age Group with Churn Status')\n",
        "plt.legend(title='Churn_Status',bbox_to_anchor=(1.05, 1), loc='upper left')\n",
        "plt.tight_layout()"
      ]
    },
    {
      "cell_type": "markdown",
      "id": "4aa367f0",
      "metadata": {
        "id": "4aa367f0"
      },
      "source": [
        "- The Young Age employees (Age group of 21-30) are more likely to leave the organization.\n",
        "- The Senior Age employees (51 and above) are less likely to leave the organization."
      ]
    },
    {
      "cell_type": "code",
      "execution_count": 43,
      "id": "cf3681fa",
      "metadata": {
        "id": "cf3681fa",
        "outputId": "67217915-2fb8-4a3a-dca2-ad343aa8afef"
      },
      "outputs": [
        {
          "data": {
            "image/png": "[encoded data removed]",
            "text/plain": [
              "<Figure size 640x480 with 1 Axes>"
            ]
          },
          "metadata": {},
          "output_type": "display_data"
        }
      ],
      "source": [
        "#Binning the Income into categories\n",
        "final_odi_df['Income_Bin'] = pd.cut(final_odi_df['Income'],bins=[10000, 40000, 70000, 100000,130000,160000,190000])\n",
        "#Income feature with Target\n",
        "incomebin = pd.crosstab(final_odi_df['Income_Bin'],final_odi_df['Churn_Status'])\n",
        "incomebin.div(incomebin.sum(1).astype(float),axis=0).plot(kind='bar',stacked=True,title='Income with Churn_Status')\n",
        "plt.legend(title='Churn_Status',bbox_to_anchor=(1.05, 1), loc='upper left')\n",
        "plt.tight_layout()"
      ]
    },
    {
      "cell_type": "markdown",
      "id": "87b6143a",
      "metadata": {
        "id": "87b6143a"
      },
      "source": [
        "- The employees whose monthly income is in 10000 -40000 or 40000-70000 are more likely to leave the organization.\n",
        "- The employees whose monthly income is in 1,60,000-1,90,000 or 1,30,000-1,60,000 are less likely to leave the organization."
      ]
    },
    {
      "cell_type": "code",
      "execution_count": 44,
      "id": "980bdd4a",
      "metadata": {
        "id": "980bdd4a",
        "outputId": "5a0e8b4a-4691-4eb0-d0b2-67797525d537"
      },
      "outputs": [
        {
          "data": {
            "image/png": "[encoded data removed]",
            "text/plain": [
              "<Figure size 640x480 with 1 Axes>"
            ]
          },
          "metadata": {},
          "output_type": "display_data"
        }
      ],
      "source": [
        "# Binning the Total Business Value into categories\n",
        "m1 = round(final_odi_df['Total_Business_Value'].min())\n",
        "m2 = round(final_odi_df['Total_Business_Value'].max())\n",
        "bins = [m1, 80000 , 2000000 , 3200000, 4400000, 5600000, 6800000, m2]\n",
        "#Binning the Total Business Value into categories\n",
        "final_odi_df['TBV_Bin'] = pd.cut(final_odi_df['Total_Business_Value'],bins)\n",
        "#Total Business Value feature with Churn_Status\n",
        "tbvbin = pd.crosstab(final_odi_df['TBV_Bin'],final_odi_df['Churn_Status'])\n",
        "tbvbin.div(tbvbin.sum(1).astype(float),axis=0).plot(kind='bar',stacked=True,title='Total Business Value with Churn_Status')\n",
        "plt.legend(title='Churn_Status',bbox_to_anchor=(1.05, 1), loc='upper left')\n",
        "plt.tight_layout()"
      ]
    },
    {
      "cell_type": "markdown",
      "id": "f568918e",
      "metadata": {
        "id": "f568918e"
      },
      "source": [
        "- The employees who have acquired total business value lesser than 44,00,000 are more likely to leave the organization.\n",
        "- The employees who have acquired total business value greater than 68,00,000 are less likely to leave the organization."
      ]
    },
    {
      "cell_type": "code",
      "execution_count": null,
      "id": "95dfc5ae",
      "metadata": {
        "id": "95dfc5ae"
      },
      "outputs": [],
      "source": []
    },
    {
      "cell_type": "markdown",
      "id": "6d3c93fc",
      "metadata": {
        "id": "6d3c93fc"
      },
      "source": [
        "## Model Building"
      ]
    },
    {
      "cell_type": "code",
      "execution_count": null,
      "id": "e04b60e1",
      "metadata": {
        "id": "e04b60e1"
      },
      "outputs": [],
      "source": []
    },
    {
      "cell_type": "code",
      "execution_count": 45,
      "id": "38874671",
      "metadata": {
        "id": "38874671"
      },
      "outputs": [],
      "source": [
        "# Removing the bins columns\n",
        "final_odi_df.drop(columns=['Age_Bin','Income_Bin','TBV_Bin'],inplace=True)"
      ]
    },
    {
      "cell_type": "code",
      "execution_count": 46,
      "id": "8e6dfd7d",
      "metadata": {
        "id": "8e6dfd7d",
        "outputId": "2e08437d-1725-4b80-84f1-2a1ef14fe9dd"
      },
      "outputs": [
        {
          "data": {
            "text/html": [
              "<div>\n",
              "<style scoped>\n",
              "    .dataframe tbody tr th:only-of-type {\n",
              "        vertical-align: middle;\n",
              "    }\n",
              "\n",
              "    .dataframe tbody tr th {\n",
              "        vertical-align: top;\n",
              "    }\n",
              "\n",
              "    .dataframe thead th {\n",
              "        text-align: right;\n",
              "    }\n",
              "</style>\n",
              "<table border=\"1\" class=\"dataframe\">\n",
              "  <thead>\n",
              "    <tr style=\"text-align: right;\">\n",
              "      <th></th>\n",
              "      <th>City_C1</th>\n",
              "      <th>City_C10</th>\n",
              "      <th>City_C11</th>\n",
              "      <th>City_C12</th>\n",
              "      <th>City_C13</th>\n",
              "      <th>City_C14</th>\n",
              "      <th>City_C15</th>\n",
              "      <th>City_C16</th>\n",
              "      <th>City_C17</th>\n",
              "      <th>City_C18</th>\n",
              "      <th>...</th>\n",
              "      <th>City_C27</th>\n",
              "      <th>City_C28</th>\n",
              "      <th>City_C29</th>\n",
              "      <th>City_C3</th>\n",
              "      <th>City_C4</th>\n",
              "      <th>City_C5</th>\n",
              "      <th>City_C6</th>\n",
              "      <th>City_C7</th>\n",
              "      <th>City_C8</th>\n",
              "      <th>City_C9</th>\n",
              "    </tr>\n",
              "  </thead>\n",
              "  <tbody>\n",
              "    <tr>\n",
              "      <th>0</th>\n",
              "      <td>False</td>\n",
              "      <td>False</td>\n",
              "      <td>False</td>\n",
              "      <td>False</td>\n",
              "      <td>False</td>\n",
              "      <td>False</td>\n",
              "      <td>False</td>\n",
              "      <td>False</td>\n",
              "      <td>False</td>\n",
              "      <td>False</td>\n",
              "      <td>...</td>\n",
              "      <td>False</td>\n",
              "      <td>False</td>\n",
              "      <td>False</td>\n",
              "      <td>False</td>\n",
              "      <td>False</td>\n",
              "      <td>False</td>\n",
              "      <td>False</td>\n",
              "      <td>False</td>\n",
              "      <td>False</td>\n",
              "      <td>False</td>\n",
              "    </tr>\n",
              "    <tr>\n",
              "      <th>1</th>\n",
              "      <td>False</td>\n",
              "      <td>False</td>\n",
              "      <td>False</td>\n",
              "      <td>False</td>\n",
              "      <td>False</td>\n",
              "      <td>False</td>\n",
              "      <td>False</td>\n",
              "      <td>False</td>\n",
              "      <td>False</td>\n",
              "      <td>False</td>\n",
              "      <td>...</td>\n",
              "      <td>False</td>\n",
              "      <td>False</td>\n",
              "      <td>False</td>\n",
              "      <td>False</td>\n",
              "      <td>False</td>\n",
              "      <td>False</td>\n",
              "      <td>False</td>\n",
              "      <td>True</td>\n",
              "      <td>False</td>\n",
              "      <td>False</td>\n",
              "    </tr>\n",
              "    <tr>\n",
              "      <th>2</th>\n",
              "      <td>False</td>\n",
              "      <td>False</td>\n",
              "      <td>False</td>\n",
              "      <td>False</td>\n",
              "      <td>True</td>\n",
              "      <td>False</td>\n",
              "      <td>False</td>\n",
              "      <td>False</td>\n",
              "      <td>False</td>\n",
              "      <td>False</td>\n",
              "      <td>...</td>\n",
              "      <td>False</td>\n",
              "      <td>False</td>\n",
              "      <td>False</td>\n",
              "      <td>False</td>\n",
              "      <td>False</td>\n",
              "      <td>False</td>\n",
              "      <td>False</td>\n",
              "      <td>False</td>\n",
              "      <td>False</td>\n",
              "      <td>False</td>\n",
              "    </tr>\n",
              "    <tr>\n",
              "      <th>3</th>\n",
              "      <td>False</td>\n",
              "      <td>False</td>\n",
              "      <td>False</td>\n",
              "      <td>False</td>\n",
              "      <td>False</td>\n",
              "      <td>False</td>\n",
              "      <td>False</td>\n",
              "      <td>False</td>\n",
              "      <td>False</td>\n",
              "      <td>False</td>\n",
              "      <td>...</td>\n",
              "      <td>False</td>\n",
              "      <td>False</td>\n",
              "      <td>False</td>\n",
              "      <td>False</td>\n",
              "      <td>False</td>\n",
              "      <td>False</td>\n",
              "      <td>False</td>\n",
              "      <td>False</td>\n",
              "      <td>False</td>\n",
              "      <td>True</td>\n",
              "    </tr>\n",
              "    <tr>\n",
              "      <th>4</th>\n",
              "      <td>False</td>\n",
              "      <td>False</td>\n",
              "      <td>True</td>\n",
              "      <td>False</td>\n",
              "      <td>False</td>\n",
              "      <td>False</td>\n",
              "      <td>False</td>\n",
              "      <td>False</td>\n",
              "      <td>False</td>\n",
              "      <td>False</td>\n",
              "      <td>...</td>\n",
              "      <td>False</td>\n",
              "      <td>False</td>\n",
              "      <td>False</td>\n",
              "      <td>False</td>\n",
              "      <td>False</td>\n",
              "      <td>False</td>\n",
              "      <td>False</td>\n",
              "      <td>False</td>\n",
              "      <td>False</td>\n",
              "      <td>False</td>\n",
              "    </tr>\n",
              "    <tr>\n",
              "      <th>...</th>\n",
              "      <td>...</td>\n",
              "      <td>...</td>\n",
              "      <td>...</td>\n",
              "      <td>...</td>\n",
              "      <td>...</td>\n",
              "      <td>...</td>\n",
              "      <td>...</td>\n",
              "      <td>...</td>\n",
              "      <td>...</td>\n",
              "      <td>...</td>\n",
              "      <td>...</td>\n",
              "      <td>...</td>\n",
              "      <td>...</td>\n",
              "      <td>...</td>\n",
              "      <td>...</td>\n",
              "      <td>...</td>\n",
              "      <td>...</td>\n",
              "      <td>...</td>\n",
              "      <td>...</td>\n",
              "      <td>...</td>\n",
              "      <td>...</td>\n",
              "    </tr>\n",
              "    <tr>\n",
              "      <th>2376</th>\n",
              "      <td>False</td>\n",
              "      <td>False</td>\n",
              "      <td>False</td>\n",
              "      <td>False</td>\n",
              "      <td>False</td>\n",
              "      <td>False</td>\n",
              "      <td>False</td>\n",
              "      <td>False</td>\n",
              "      <td>False</td>\n",
              "      <td>False</td>\n",
              "      <td>...</td>\n",
              "      <td>False</td>\n",
              "      <td>False</td>\n",
              "      <td>False</td>\n",
              "      <td>False</td>\n",
              "      <td>False</td>\n",
              "      <td>False</td>\n",
              "      <td>False</td>\n",
              "      <td>False</td>\n",
              "      <td>False</td>\n",
              "      <td>False</td>\n",
              "    </tr>\n",
              "    <tr>\n",
              "      <th>2377</th>\n",
              "      <td>False</td>\n",
              "      <td>False</td>\n",
              "      <td>False</td>\n",
              "      <td>False</td>\n",
              "      <td>False</td>\n",
              "      <td>False</td>\n",
              "      <td>False</td>\n",
              "      <td>False</td>\n",
              "      <td>False</td>\n",
              "      <td>False</td>\n",
              "      <td>...</td>\n",
              "      <td>False</td>\n",
              "      <td>False</td>\n",
              "      <td>False</td>\n",
              "      <td>False</td>\n",
              "      <td>False</td>\n",
              "      <td>False</td>\n",
              "      <td>False</td>\n",
              "      <td>False</td>\n",
              "      <td>False</td>\n",
              "      <td>True</td>\n",
              "    </tr>\n",
              "    <tr>\n",
              "      <th>2378</th>\n",
              "      <td>False</td>\n",
              "      <td>False</td>\n",
              "      <td>False</td>\n",
              "      <td>False</td>\n",
              "      <td>False</td>\n",
              "      <td>False</td>\n",
              "      <td>False</td>\n",
              "      <td>False</td>\n",
              "      <td>False</td>\n",
              "      <td>False</td>\n",
              "      <td>...</td>\n",
              "      <td>False</td>\n",
              "      <td>False</td>\n",
              "      <td>False</td>\n",
              "      <td>False</td>\n",
              "      <td>False</td>\n",
              "      <td>False</td>\n",
              "      <td>False</td>\n",
              "      <td>False</td>\n",
              "      <td>False</td>\n",
              "      <td>False</td>\n",
              "    </tr>\n",
              "    <tr>\n",
              "      <th>2379</th>\n",
              "      <td>False</td>\n",
              "      <td>False</td>\n",
              "      <td>False</td>\n",
              "      <td>False</td>\n",
              "      <td>False</td>\n",
              "      <td>False</td>\n",
              "      <td>False</td>\n",
              "      <td>False</td>\n",
              "      <td>False</td>\n",
              "      <td>False</td>\n",
              "      <td>...</td>\n",
              "      <td>False</td>\n",
              "      <td>False</td>\n",
              "      <td>False</td>\n",
              "      <td>False</td>\n",
              "      <td>False</td>\n",
              "      <td>False</td>\n",
              "      <td>False</td>\n",
              "      <td>False</td>\n",
              "      <td>False</td>\n",
              "      <td>False</td>\n",
              "    </tr>\n",
              "    <tr>\n",
              "      <th>2380</th>\n",
              "      <td>False</td>\n",
              "      <td>False</td>\n",
              "      <td>False</td>\n",
              "      <td>False</td>\n",
              "      <td>False</td>\n",
              "      <td>False</td>\n",
              "      <td>False</td>\n",
              "      <td>False</td>\n",
              "      <td>False</td>\n",
              "      <td>False</td>\n",
              "      <td>...</td>\n",
              "      <td>True</td>\n",
              "      <td>False</td>\n",
              "      <td>False</td>\n",
              "      <td>False</td>\n",
              "      <td>False</td>\n",
              "      <td>False</td>\n",
              "      <td>False</td>\n",
              "      <td>False</td>\n",
              "      <td>False</td>\n",
              "      <td>False</td>\n",
              "    </tr>\n",
              "  </tbody>\n",
              "</table>\n",
              "<p>2381 rows × 29 columns</p>\n",
              "</div>"
            ],
            "text/plain": [
              "      City_C1  City_C10  City_C11  City_C12  City_C13  City_C14  City_C15  \\\n",
              "0       False     False     False     False     False     False     False   \n",
              "1       False     False     False     False     False     False     False   \n",
              "2       False     False     False     False      True     False     False   \n",
              "3       False     False     False     False     False     False     False   \n",
              "4       False     False      True     False     False     False     False   \n",
              "...       ...       ...       ...       ...       ...       ...       ...   \n",
              "2376    False     False     False     False     False     False     False   \n",
              "2377    False     False     False     False     False     False     False   \n",
              "2378    False     False     False     False     False     False     False   \n",
              "2379    False     False     False     False     False     False     False   \n",
              "2380    False     False     False     False     False     False     False   \n",
              "\n",
              "      City_C16  City_C17  City_C18  ...  City_C27  City_C28  City_C29  \\\n",
              "0        False     False     False  ...     False     False     False   \n",
              "1        False     False     False  ...     False     False     False   \n",
              "2        False     False     False  ...     False     False     False   \n",
              "3        False     False     False  ...     False     False     False   \n",
              "4        False     False     False  ...     False     False     False   \n",
              "...        ...       ...       ...  ...       ...       ...       ...   \n",
              "2376     False     False     False  ...     False     False     False   \n",
              "2377     False     False     False  ...     False     False     False   \n",
              "2378     False     False     False  ...     False     False     False   \n",
              "2379     False     False     False  ...     False     False     False   \n",
              "2380     False     False     False  ...      True     False     False   \n",
              "\n",
              "      City_C3  City_C4  City_C5  City_C6  City_C7  City_C8  City_C9  \n",
              "0       False    False    False    False    False    False    False  \n",
              "1       False    False    False    False     True    False    False  \n",
              "2       False    False    False    False    False    False    False  \n",
              "3       False    False    False    False    False    False     True  \n",
              "4       False    False    False    False    False    False    False  \n",
              "...       ...      ...      ...      ...      ...      ...      ...  \n",
              "2376    False    False    False    False    False    False    False  \n",
              "2377    False    False    False    False    False    False     True  \n",
              "2378    False    False    False    False    False    False    False  \n",
              "2379    False    False    False    False    False    False    False  \n",
              "2380    False    False    False    False    False    False    False  \n",
              "\n",
              "[2381 rows x 29 columns]"
            ]
          },
          "execution_count": 46,
          "metadata": {},
          "output_type": "execute_result"
        }
      ],
      "source": [
        "# One Hot Encoding of City Column\n",
        "OH_Enc_City = pd.get_dummies(final_odi_df['City'],prefix='City')\n",
        "OH_Enc_City"
      ]
    },
    {
      "cell_type": "code",
      "execution_count": 47,
      "id": "af6fd683",
      "metadata": {
        "id": "af6fd683",
        "outputId": "303ff636-dcef-47aa-9b99-e3ab69158f1f"
      },
      "outputs": [
        {
          "data": {
            "text/html": [
              "<div>\n",
              "<style scoped>\n",
              "    .dataframe tbody tr th:only-of-type {\n",
              "        vertical-align: middle;\n",
              "    }\n",
              "\n",
              "    .dataframe tbody tr th {\n",
              "        vertical-align: top;\n",
              "    }\n",
              "\n",
              "    .dataframe thead th {\n",
              "        text-align: right;\n",
              "    }\n",
              "</style>\n",
              "<table border=\"1\" class=\"dataframe\">\n",
              "  <thead>\n",
              "    <tr style=\"text-align: right;\">\n",
              "      <th></th>\n",
              "      <th>Driver_ID</th>\n",
              "      <th>Age</th>\n",
              "      <th>Gender</th>\n",
              "      <th>City</th>\n",
              "      <th>Education</th>\n",
              "      <th>Income</th>\n",
              "      <th>Joining_Designation</th>\n",
              "      <th>Grade</th>\n",
              "      <th>Total_Business_Value</th>\n",
              "      <th>Last_Quarterly_Rating</th>\n",
              "      <th>...</th>\n",
              "      <th>City_C27</th>\n",
              "      <th>City_C28</th>\n",
              "      <th>City_C29</th>\n",
              "      <th>City_C3</th>\n",
              "      <th>City_C4</th>\n",
              "      <th>City_C5</th>\n",
              "      <th>City_C6</th>\n",
              "      <th>City_C7</th>\n",
              "      <th>City_C8</th>\n",
              "      <th>City_C9</th>\n",
              "    </tr>\n",
              "  </thead>\n",
              "  <tbody>\n",
              "    <tr>\n",
              "      <th>0</th>\n",
              "      <td>1</td>\n",
              "      <td>28.0</td>\n",
              "      <td>0.0</td>\n",
              "      <td>C23</td>\n",
              "      <td>2.0</td>\n",
              "      <td>57387.0</td>\n",
              "      <td>1.0</td>\n",
              "      <td>1.0</td>\n",
              "      <td>1715580.0</td>\n",
              "      <td>2.0</td>\n",
              "      <td>...</td>\n",
              "      <td>False</td>\n",
              "      <td>False</td>\n",
              "      <td>False</td>\n",
              "      <td>False</td>\n",
              "      <td>False</td>\n",
              "      <td>False</td>\n",
              "      <td>False</td>\n",
              "      <td>False</td>\n",
              "      <td>False</td>\n",
              "      <td>False</td>\n",
              "    </tr>\n",
              "    <tr>\n",
              "      <th>1</th>\n",
              "      <td>2</td>\n",
              "      <td>31.0</td>\n",
              "      <td>0.0</td>\n",
              "      <td>C7</td>\n",
              "      <td>2.0</td>\n",
              "      <td>67016.0</td>\n",
              "      <td>2.0</td>\n",
              "      <td>2.0</td>\n",
              "      <td>0.0</td>\n",
              "      <td>1.0</td>\n",
              "      <td>...</td>\n",
              "      <td>False</td>\n",
              "      <td>False</td>\n",
              "      <td>False</td>\n",
              "      <td>False</td>\n",
              "      <td>False</td>\n",
              "      <td>False</td>\n",
              "      <td>False</td>\n",
              "      <td>True</td>\n",
              "      <td>False</td>\n",
              "      <td>False</td>\n",
              "    </tr>\n",
              "    <tr>\n",
              "      <th>2</th>\n",
              "      <td>4</td>\n",
              "      <td>43.0</td>\n",
              "      <td>0.0</td>\n",
              "      <td>C13</td>\n",
              "      <td>2.0</td>\n",
              "      <td>65603.0</td>\n",
              "      <td>2.0</td>\n",
              "      <td>2.0</td>\n",
              "      <td>350000.0</td>\n",
              "      <td>1.0</td>\n",
              "      <td>...</td>\n",
              "      <td>False</td>\n",
              "      <td>False</td>\n",
              "      <td>False</td>\n",
              "      <td>False</td>\n",
              "      <td>False</td>\n",
              "      <td>False</td>\n",
              "      <td>False</td>\n",
              "      <td>False</td>\n",
              "      <td>False</td>\n",
              "      <td>False</td>\n",
              "    </tr>\n",
              "    <tr>\n",
              "      <th>3</th>\n",
              "      <td>5</td>\n",
              "      <td>29.0</td>\n",
              "      <td>0.0</td>\n",
              "      <td>C9</td>\n",
              "      <td>0.0</td>\n",
              "      <td>46368.0</td>\n",
              "      <td>1.0</td>\n",
              "      <td>1.0</td>\n",
              "      <td>120360.0</td>\n",
              "      <td>1.0</td>\n",
              "      <td>...</td>\n",
              "      <td>False</td>\n",
              "      <td>False</td>\n",
              "      <td>False</td>\n",
              "      <td>False</td>\n",
              "      <td>False</td>\n",
              "      <td>False</td>\n",
              "      <td>False</td>\n",
              "      <td>False</td>\n",
              "      <td>False</td>\n",
              "      <td>True</td>\n",
              "    </tr>\n",
              "    <tr>\n",
              "      <th>4</th>\n",
              "      <td>6</td>\n",
              "      <td>31.0</td>\n",
              "      <td>1.0</td>\n",
              "      <td>C11</td>\n",
              "      <td>1.0</td>\n",
              "      <td>78728.0</td>\n",
              "      <td>3.0</td>\n",
              "      <td>3.0</td>\n",
              "      <td>1265000.0</td>\n",
              "      <td>2.0</td>\n",
              "      <td>...</td>\n",
              "      <td>False</td>\n",
              "      <td>False</td>\n",
              "      <td>False</td>\n",
              "      <td>False</td>\n",
              "      <td>False</td>\n",
              "      <td>False</td>\n",
              "      <td>False</td>\n",
              "      <td>False</td>\n",
              "      <td>False</td>\n",
              "      <td>False</td>\n",
              "    </tr>\n",
              "    <tr>\n",
              "      <th>...</th>\n",
              "      <td>...</td>\n",
              "      <td>...</td>\n",
              "      <td>...</td>\n",
              "      <td>...</td>\n",
              "      <td>...</td>\n",
              "      <td>...</td>\n",
              "      <td>...</td>\n",
              "      <td>...</td>\n",
              "      <td>...</td>\n",
              "      <td>...</td>\n",
              "      <td>...</td>\n",
              "      <td>...</td>\n",
              "      <td>...</td>\n",
              "      <td>...</td>\n",
              "      <td>...</td>\n",
              "      <td>...</td>\n",
              "      <td>...</td>\n",
              "      <td>...</td>\n",
              "      <td>...</td>\n",
              "      <td>...</td>\n",
              "      <td>...</td>\n",
              "    </tr>\n",
              "    <tr>\n",
              "      <th>2376</th>\n",
              "      <td>2784</td>\n",
              "      <td>34.0</td>\n",
              "      <td>0.0</td>\n",
              "      <td>C24</td>\n",
              "      <td>0.0</td>\n",
              "      <td>82815.0</td>\n",
              "      <td>2.0</td>\n",
              "      <td>3.0</td>\n",
              "      <td>21748820.0</td>\n",
              "      <td>4.0</td>\n",
              "      <td>...</td>\n",
              "      <td>False</td>\n",
              "      <td>False</td>\n",
              "      <td>False</td>\n",
              "      <td>False</td>\n",
              "      <td>False</td>\n",
              "      <td>False</td>\n",
              "      <td>False</td>\n",
              "      <td>False</td>\n",
              "      <td>False</td>\n",
              "      <td>False</td>\n",
              "    </tr>\n",
              "    <tr>\n",
              "      <th>2377</th>\n",
              "      <td>2785</td>\n",
              "      <td>34.0</td>\n",
              "      <td>1.0</td>\n",
              "      <td>C9</td>\n",
              "      <td>0.0</td>\n",
              "      <td>12105.0</td>\n",
              "      <td>1.0</td>\n",
              "      <td>1.0</td>\n",
              "      <td>0.0</td>\n",
              "      <td>1.0</td>\n",
              "      <td>...</td>\n",
              "      <td>False</td>\n",
              "      <td>False</td>\n",
              "      <td>False</td>\n",
              "      <td>False</td>\n",
              "      <td>False</td>\n",
              "      <td>False</td>\n",
              "      <td>False</td>\n",
              "      <td>False</td>\n",
              "      <td>False</td>\n",
              "      <td>True</td>\n",
              "    </tr>\n",
              "    <tr>\n",
              "      <th>2378</th>\n",
              "      <td>2786</td>\n",
              "      <td>45.0</td>\n",
              "      <td>0.0</td>\n",
              "      <td>C19</td>\n",
              "      <td>0.0</td>\n",
              "      <td>35370.0</td>\n",
              "      <td>2.0</td>\n",
              "      <td>2.0</td>\n",
              "      <td>2815090.0</td>\n",
              "      <td>1.0</td>\n",
              "      <td>...</td>\n",
              "      <td>False</td>\n",
              "      <td>False</td>\n",
              "      <td>False</td>\n",
              "      <td>False</td>\n",
              "      <td>False</td>\n",
              "      <td>False</td>\n",
              "      <td>False</td>\n",
              "      <td>False</td>\n",
              "      <td>False</td>\n",
              "      <td>False</td>\n",
              "    </tr>\n",
              "    <tr>\n",
              "      <th>2379</th>\n",
              "      <td>2787</td>\n",
              "      <td>28.0</td>\n",
              "      <td>1.0</td>\n",
              "      <td>C20</td>\n",
              "      <td>2.0</td>\n",
              "      <td>69498.0</td>\n",
              "      <td>1.0</td>\n",
              "      <td>1.0</td>\n",
              "      <td>977830.0</td>\n",
              "      <td>1.0</td>\n",
              "      <td>...</td>\n",
              "      <td>False</td>\n",
              "      <td>False</td>\n",
              "      <td>False</td>\n",
              "      <td>False</td>\n",
              "      <td>False</td>\n",
              "      <td>False</td>\n",
              "      <td>False</td>\n",
              "      <td>False</td>\n",
              "      <td>False</td>\n",
              "      <td>False</td>\n",
              "    </tr>\n",
              "    <tr>\n",
              "      <th>2380</th>\n",
              "      <td>2788</td>\n",
              "      <td>30.0</td>\n",
              "      <td>0.0</td>\n",
              "      <td>C27</td>\n",
              "      <td>2.0</td>\n",
              "      <td>70254.0</td>\n",
              "      <td>2.0</td>\n",
              "      <td>2.0</td>\n",
              "      <td>2298240.0</td>\n",
              "      <td>2.0</td>\n",
              "      <td>...</td>\n",
              "      <td>True</td>\n",
              "      <td>False</td>\n",
              "      <td>False</td>\n",
              "      <td>False</td>\n",
              "      <td>False</td>\n",
              "      <td>False</td>\n",
              "      <td>False</td>\n",
              "      <td>False</td>\n",
              "      <td>False</td>\n",
              "      <td>False</td>\n",
              "    </tr>\n",
              "  </tbody>\n",
              "</table>\n",
              "<p>2381 rows × 42 columns</p>\n",
              "</div>"
            ],
            "text/plain": [
              "      Driver_ID   Age  Gender City  Education   Income  Joining_Designation  \\\n",
              "0             1  28.0     0.0  C23        2.0  57387.0                  1.0   \n",
              "1             2  31.0     0.0   C7        2.0  67016.0                  2.0   \n",
              "2             4  43.0     0.0  C13        2.0  65603.0                  2.0   \n",
              "3             5  29.0     0.0   C9        0.0  46368.0                  1.0   \n",
              "4             6  31.0     1.0  C11        1.0  78728.0                  3.0   \n",
              "...         ...   ...     ...  ...        ...      ...                  ...   \n",
              "2376       2784  34.0     0.0  C24        0.0  82815.0                  2.0   \n",
              "2377       2785  34.0     1.0   C9        0.0  12105.0                  1.0   \n",
              "2378       2786  45.0     0.0  C19        0.0  35370.0                  2.0   \n",
              "2379       2787  28.0     1.0  C20        2.0  69498.0                  1.0   \n",
              "2380       2788  30.0     0.0  C27        2.0  70254.0                  2.0   \n",
              "\n",
              "      Grade  Total_Business_Value  Last_Quarterly_Rating  ...  City_C27  \\\n",
              "0       1.0             1715580.0                    2.0  ...     False   \n",
              "1       2.0                   0.0                    1.0  ...     False   \n",
              "2       2.0              350000.0                    1.0  ...     False   \n",
              "3       1.0              120360.0                    1.0  ...     False   \n",
              "4       3.0             1265000.0                    2.0  ...     False   \n",
              "...     ...                   ...                    ...  ...       ...   \n",
              "2376    3.0            21748820.0                    4.0  ...     False   \n",
              "2377    1.0                   0.0                    1.0  ...     False   \n",
              "2378    2.0             2815090.0                    1.0  ...     False   \n",
              "2379    1.0              977830.0                    1.0  ...     False   \n",
              "2380    2.0             2298240.0                    2.0  ...      True   \n",
              "\n",
              "      City_C28  City_C29  City_C3  City_C4  City_C5  City_C6  City_C7  \\\n",
              "0        False     False    False    False    False    False    False   \n",
              "1        False     False    False    False    False    False     True   \n",
              "2        False     False    False    False    False    False    False   \n",
              "3        False     False    False    False    False    False    False   \n",
              "4        False     False    False    False    False    False    False   \n",
              "...        ...       ...      ...      ...      ...      ...      ...   \n",
              "2376     False     False    False    False    False    False    False   \n",
              "2377     False     False    False    False    False    False    False   \n",
              "2378     False     False    False    False    False    False    False   \n",
              "2379     False     False    False    False    False    False    False   \n",
              "2380     False     False    False    False    False    False    False   \n",
              "\n",
              "      City_C8  City_C9  \n",
              "0       False    False  \n",
              "1       False    False  \n",
              "2       False    False  \n",
              "3       False     True  \n",
              "4       False    False  \n",
              "...       ...      ...  \n",
              "2376    False    False  \n",
              "2377    False     True  \n",
              "2378    False    False  \n",
              "2379    False    False  \n",
              "2380    False    False  \n",
              "\n",
              "[2381 rows x 42 columns]"
            ]
          },
          "execution_count": 47,
          "metadata": {},
          "output_type": "execute_result"
        }
      ],
      "source": [
        "final_odi_df = pd.concat([final_odi_df,OH_Enc_City],axis=1)\n",
        "final_odi_df"
      ]
    },
    {
      "cell_type": "code",
      "execution_count": 48,
      "id": "eadb182a",
      "metadata": {
        "id": "eadb182a"
      },
      "outputs": [],
      "source": [
        "# Feature Variables\n",
        "X = final_odi_df.drop(columns=['Driver_ID','Churn_Status','City'])\n",
        "# Target Variable\n",
        "y = final_odi_df['Churn_Status']"
      ]
    },
    {
      "cell_type": "code",
      "execution_count": 49,
      "id": "837ee8d6",
      "metadata": {
        "id": "837ee8d6"
      },
      "outputs": [],
      "source": [
        "# Train Data and Test Data Split\n",
        "X_train,X_test,y_train,y_test = train_test_split(X,y,test_size=0.2,random_state=42,stratify=y,shuffle=True)"
      ]
    },
    {
      "cell_type": "code",
      "execution_count": 50,
      "id": "d051ed00",
      "metadata": {
        "id": "d051ed00",
        "outputId": "abfcd89c-5ef6-43d0-9f66-1d033b0ddb26"
      },
      "outputs": [
        {
          "data": {
            "text/plain": [
              "((1904, 39), (477, 39), (1904,), (477,))"
            ]
          },
          "execution_count": 50,
          "metadata": {},
          "output_type": "execute_result"
        }
      ],
      "source": [
        "X_train.shape,X_test.shape,y_train.shape,y_test.shape"
      ]
    },
    {
      "cell_type": "code",
      "execution_count": 51,
      "id": "c28ca3a1",
      "metadata": {
        "id": "c28ca3a1"
      },
      "outputs": [],
      "source": [
        "# Feature Scaling\n",
        "scaler = MinMaxScaler()\n",
        "X_train = scaler.fit_transform(X_train)\n",
        "X_test = scaler.transform(X_test)"
      ]
    },
    {
      "cell_type": "markdown",
      "id": "2aaee178",
      "metadata": {
        "id": "2aaee178"
      },
      "source": [
        "### Decision Tree Classifier"
      ]
    },
    {
      "cell_type": "code",
      "execution_count": 52,
      "id": "7665fb26",
      "metadata": {
        "id": "7665fb26",
        "outputId": "9d4eb612-ec6a-4486-a25a-c844132ce0e9"
      },
      "outputs": [
        {
          "name": "stdout",
          "output_type": "stream",
          "text": [
            "              precision    recall  f1-score   support\n",
            "\n",
            "           0       0.58      0.61      0.59       153\n",
            "           1       0.81      0.79      0.80       324\n",
            "\n",
            "    accuracy                           0.73       477\n",
            "   macro avg       0.70      0.70      0.70       477\n",
            "weighted avg       0.74      0.73      0.74       477\n",
            "\n"
          ]
        },
        {
          "data": {
            "text/plain": [
              "<sklearn.metrics._plot.confusion_matrix.ConfusionMatrixDisplay at 0x1b86c25ff10>"
            ]
          },
          "execution_count": 52,
          "metadata": {},
          "output_type": "execute_result"
        },
        {
          "data": {
            "image/png": "[encoded data removed]",
            "text/plain": [
              "<Figure size 640x480 with 2 Axes>"
            ]
          },
          "metadata": {},
          "output_type": "display_data"
        }
      ],
      "source": [
        "# Create a Decision Tree Classifier Object\n",
        "clf = DecisionTreeClassifier()\n",
        "\n",
        "# Train the Decision Tree Classifier using Train Data\n",
        "clf.fit(X_train,y_train)\n",
        "\n",
        "# Test the Decision Tree Classifier on Test Data\n",
        "y_pred = clf.predict(X_test)\n",
        "\n",
        "# Evaluate Model Metrics\n",
        "print(classification_report(y_test,y_pred))\n",
        "cm = confusion_matrix(y_test,y_pred)\n",
        "ConfusionMatrixDisplay(confusion_matrix=cm, display_labels=clf.classes_).plot()"
      ]
    },
    {
      "cell_type": "markdown",
      "id": "6d57059e",
      "metadata": {
        "id": "6d57059e"
      },
      "source": [
        "- The Decision Tree Classifier out of all predicted 0 the measure of correctly predicted is 58%, and for 1 it is 81%(Precision).\n",
        "- The Decision Tree Classifier  out of all actual 0 the measure of correctly predicted is 59%, and for 1 it is 80%(Recall)."
      ]
    },
    {
      "cell_type": "markdown",
      "id": "e74b883a",
      "metadata": {
        "id": "e74b883a"
      },
      "source": [
        "## Ensemble Learning : Bagging"
      ]
    },
    {
      "cell_type": "markdown",
      "id": "92d2e09f",
      "metadata": {
        "id": "92d2e09f"
      },
      "source": [
        "### Random Forest Classifier"
      ]
    },
    {
      "cell_type": "code",
      "execution_count": 53,
      "id": "98d84a67",
      "metadata": {
        "id": "98d84a67",
        "outputId": "8bf8668b-da7e-4199-fe35-4387d45f1984"
      },
      "outputs": [
        {
          "name": "stdout",
          "output_type": "stream",
          "text": [
            "Best parameters are : {'max_depth': 4, 'n_estimators': 150}\n",
            "The score is : 0.8566813478581716\n",
            "              precision    recall  f1-score   support\n",
            "\n",
            "           0       0.71      0.67      0.69       153\n",
            "           1       0.85      0.87      0.86       324\n",
            "\n",
            "    accuracy                           0.81       477\n",
            "   macro avg       0.78      0.77      0.77       477\n",
            "weighted avg       0.80      0.81      0.81       477\n",
            "\n"
          ]
        },
        {
          "data": {
            "text/plain": [
              "<sklearn.metrics._plot.confusion_matrix.ConfusionMatrixDisplay at 0x1b86c737040>"
            ]
          },
          "execution_count": 53,
          "metadata": {},
          "output_type": "execute_result"
        },
        {
          "data": {
            "image/png": "[encoded data removed]",
            "text/plain": [
              "<Figure size 640x480 with 2 Axes>"
            ]
          },
          "metadata": {},
          "output_type": "display_data"
        }
      ],
      "source": [
        "params = {\n",
        "          'n_estimators' : [50,100,150,200],\n",
        "          'max_depth' : [2,3,4]\n",
        "         }\n",
        "\n",
        "rf_clf = RandomForestClassifier(class_weight ='balanced')\n",
        "\n",
        "grid = GridSearchCV(estimator=rf_clf,param_grid=params,cv=3,scoring='f1')\n",
        "\n",
        "grid.fit(X_train,y_train)\n",
        "\n",
        "def display(results):\n",
        " print(f'Best parameters are : {results.best_params_}')\n",
        " print(f'The score is : {results.best_score_}')\n",
        "display(grid)\n",
        "\n",
        "y_pred = grid.predict(X_test)\n",
        "\n",
        "print(classification_report(y_test, y_pred))\n",
        "cm = confusion_matrix(y_test, y_pred)\n",
        "ConfusionMatrixDisplay(confusion_matrix=cm, display_labels=clf.classes_).plot()"
      ]
    },
    {
      "cell_type": "markdown",
      "id": "fc9d9588",
      "metadata": {
        "id": "fc9d9588"
      },
      "source": [
        "- The Random Forest With Class Weighting method out of all predicted 0 the measure of correctly predicted is 71%, and for 1 it is 85%(Precision).\n",
        "- The Random Forest With Class Weighting method out of all actual 0 the measure of correctly predicted is 67%, and for 1 it is 87%(Recall)."
      ]
    },
    {
      "cell_type": "code",
      "execution_count": 54,
      "id": "ba510824",
      "metadata": {
        "id": "ba510824",
        "outputId": "d113a818-944b-4460-cb68-14c319a87ac2"
      },
      "outputs": [
        {
          "data": {
            "image/png": "[encoded data removed]",
            "text/plain": [
              "<Figure size 640x480 with 1 Axes>"
            ]
          },
          "metadata": {},
          "output_type": "display_data"
        }
      ],
      "source": [
        "logit_roc_auc=roc_auc_score(y_test,y_pred)\n",
        "fpr,tpr,thresholds=roc_curve(y_test,grid.predict_proba(X_test)[:,1])\n",
        "plt.figure()\n",
        "plt.plot(fpr,tpr,label='Random Forest Classifier (area = %0.2f)' % logit_roc_auc)\n",
        "plt.plot([0,1],[0,1],'r--')\n",
        "plt.xlim([0.0,1.0])\n",
        "plt.ylim([0.0,1.05])\n",
        "plt.xlabel('False Positive Rate')\n",
        "plt.ylabel('True Positive Rate')\n",
        "plt.title('Receiver operating characteristic')\n",
        "plt.legend(loc=\"lower right\")\n",
        "plt.show()"
      ]
    },
    {
      "cell_type": "code",
      "execution_count": 55,
      "id": "d8af4d36",
      "metadata": {
        "id": "d8af4d36",
        "outputId": "bd4a7673-8278-463f-e271-0e7c9393ac09"
      },
      "outputs": [
        {
          "name": "stdout",
          "output_type": "stream",
          "text": [
            "Best parameters are : {'max_depth': 4, 'n_estimators': 150}\n",
            "The score is : 0.8566813478581716\n",
            "              precision    recall  f1-score   support\n",
            "\n",
            "           0       0.70      0.67      0.68       153\n",
            "           1       0.85      0.86      0.85       324\n",
            "\n",
            "    accuracy                           0.80       477\n",
            "   macro avg       0.77      0.77      0.77       477\n",
            "weighted avg       0.80      0.80      0.80       477\n",
            "\n"
          ]
        },
        {
          "data": {
            "text/plain": [
              "<sklearn.metrics._plot.confusion_matrix.ConfusionMatrixDisplay at 0x1b86c839d00>"
            ]
          },
          "execution_count": 55,
          "metadata": {},
          "output_type": "execute_result"
        },
        {
          "data": {
            "image/png": "[encoded data removed]",
            "text/plain": [
              "<Figure size 640x480 with 2 Axes>"
            ]
          },
          "metadata": {},
          "output_type": "display_data"
        }
      ],
      "source": [
        "params = {\n",
        "          'n_estimators' : [50,100,150,200],\n",
        "          'max_depth' : [2,3,4]\n",
        "         }\n",
        "\n",
        "rf_clf = RandomForestClassifier(class_weight ='balanced_subsample')\n",
        "\n",
        "grid1 = GridSearchCV(estimator=rf_clf,param_grid=params,cv=3,scoring='f1')\n",
        "\n",
        "grid1.fit(X_train,y_train)\n",
        "\n",
        "def display(results):\n",
        " print(f'Best parameters are : {results.best_params_}')\n",
        " print(f'The score is : {results.best_score_}')\n",
        "display(grid)\n",
        "\n",
        "y_pred = grid1.predict(X_test)\n",
        "\n",
        "print(classification_report(y_test, y_pred))\n",
        "cm = confusion_matrix(y_test, y_pred)\n",
        "ConfusionMatrixDisplay(confusion_matrix=cm, display_labels=clf.classes_).plot()"
      ]
    },
    {
      "cell_type": "markdown",
      "id": "dd04f9b7",
      "metadata": {
        "id": "dd04f9b7"
      },
      "source": [
        "- The Random Forest With Bootstrap Class Weighting method out of all predicted 0 the measure of correctly predicted is 69%, and for 1 it is 84%(Precision).\n",
        "- The Random Forest With Bootstrap Class Weighting method out of all actual 0 the measure of correctly predicted is 66%, and for 1 it is 86%(Recall)."
      ]
    },
    {
      "cell_type": "code",
      "execution_count": 56,
      "id": "fa0a8cc7",
      "metadata": {
        "id": "fa0a8cc7",
        "outputId": "a4cae08e-78f5-41d2-9e5a-5dfbfe136351"
      },
      "outputs": [
        {
          "data": {
            "image/png": "[encoded data removed]",
            "text/plain": [
              "<Figure size 640x480 with 1 Axes>"
            ]
          },
          "metadata": {},
          "output_type": "display_data"
        }
      ],
      "source": [
        "logit_roc_auc=roc_auc_score(y_test,y_pred)\n",
        "fpr,tpr,thresholds=roc_curve(y_test,grid1.predict_proba(X_test)[:,1])\n",
        "plt.figure()\n",
        "plt.plot(fpr,tpr,label='Random Forest Classifier (area = %0.2f)' % logit_roc_auc)\n",
        "plt.plot([0,1],[0,1],'r--')\n",
        "plt.xlim([0.0,1.0])\n",
        "plt.ylim([0.0,1.05])\n",
        "plt.xlabel('False Positive Rate')\n",
        "plt.ylabel('True Positive Rate')\n",
        "plt.title('Receiver operating characteristic')\n",
        "plt.legend(loc=\"lower right\")\n",
        "plt.show()"
      ]
    },
    {
      "cell_type": "markdown",
      "id": "ef1adc9a",
      "metadata": {
        "id": "ef1adc9a"
      },
      "source": [
        "- The RandomForestClassifier with class_weight = balanced has roc_score of 0.77 and with class_weight = balanced_subsample\n",
        "  has roc_score of 0.76 which  implies RandomForestClassifier with class_weight = balanced performs slightly better.\n",
        "- Moreover,RandomForestClassifier with class_weight = balanced has better f1score of Class-1 than with class_weight = balanced."
      ]
    },
    {
      "cell_type": "markdown",
      "id": "ae8f65a5",
      "metadata": {
        "id": "ae8f65a5"
      },
      "source": [
        "## Ensemble Learning : Boosting"
      ]
    },
    {
      "cell_type": "markdown",
      "id": "f70589cd",
      "metadata": {
        "id": "f70589cd"
      },
      "source": [
        "### XGBoost Classifier"
      ]
    },
    {
      "cell_type": "code",
      "execution_count": 57,
      "id": "661ce4eb",
      "metadata": {
        "id": "661ce4eb",
        "outputId": "99c0e742-3ac5-4f43-b287-fb0375250f55"
      },
      "outputs": [
        {
          "name": "stdout",
          "output_type": "stream",
          "text": [
            "              precision    recall  f1-score   support\n",
            "\n",
            "           0       0.72      0.59      0.65       153\n",
            "           1       0.82      0.89      0.85       324\n",
            "\n",
            "    accuracy                           0.79       477\n",
            "   macro avg       0.77      0.74      0.75       477\n",
            "weighted avg       0.79      0.79      0.79       477\n",
            "\n"
          ]
        },
        {
          "data": {
            "text/plain": [
              "<sklearn.metrics._plot.confusion_matrix.ConfusionMatrixDisplay at 0x1b86c0ed4f0>"
            ]
          },
          "execution_count": 57,
          "metadata": {},
          "output_type": "execute_result"
        },
        {
          "data": {
            "image/png": "[encoded data removed]",
            "text/plain": [
              "<Figure size 640x480 with 2 Axes>"
            ]
          },
          "metadata": {},
          "output_type": "display_data"
        }
      ],
      "source": [
        "xgb_model = xgb.XGBClassifier(class_weight ='balanced')\n",
        "\n",
        "xgb_model.fit(X_train, y_train)\n",
        "\n",
        "y_pred = xgb_model.predict(X_test)\n",
        "\n",
        "print(classification_report(y_test, y_pred))\n",
        "cm = confusion_matrix(y_test, y_pred)\n",
        "ConfusionMatrixDisplay(confusion_matrix=cm, display_labels=clf.classes_).plot()"
      ]
    },
    {
      "cell_type": "markdown",
      "id": "36a9c62e",
      "metadata": {
        "id": "36a9c62e"
      },
      "source": [
        "- The XGBoost method out of all predicted 0 the measure of correctly predicted is 72% and for 1 it is 82%(Precision).\n",
        "- The XGBoost method out of all actual 0 the measure of correctly predicted is 59% and for 1 it is 89%(Recall)."
      ]
    },
    {
      "cell_type": "code",
      "execution_count": 58,
      "id": "e7d1cd1b",
      "metadata": {
        "id": "e7d1cd1b",
        "outputId": "bb939fb6-5649-4800-b4dc-2865ee6c5e50"
      },
      "outputs": [
        {
          "data": {
            "image/png": "[encoded data removed]",
            "text/plain": [
              "<Figure size 640x480 with 1 Axes>"
            ]
          },
          "metadata": {},
          "output_type": "display_data"
        }
      ],
      "source": [
        "logit_roc_auc=roc_auc_score(y_test,y_pred)\n",
        "fpr,tpr,thresholds=roc_curve(y_test,xgb_model.predict_proba(X_test)[:,1])\n",
        "plt.figure()\n",
        "plt.plot(fpr,tpr,label='XGBoost Classifier (area = %0.2f)' % logit_roc_auc)\n",
        "plt.plot([0,1],[0,1],'r--')\n",
        "plt.xlim([0.0,1.0])\n",
        "plt.ylim([0.0,1.05])\n",
        "plt.xlabel('False Positive Rate')\n",
        "plt.ylabel('True Positive Rate')\n",
        "plt.title('Receiver operating characteristic')\n",
        "plt.legend(loc=\"lower right\")\n",
        "plt.show()"
      ]
    },
    {
      "cell_type": "markdown",
      "id": "391fb647",
      "metadata": {
        "id": "391fb647"
      },
      "source": [
        "- The xgbclassifer has roc_score of 0.74 and it is lesser than that of RandomForestClassifier.\n",
        "- Moreover,xgbclassifer has lesser f1score of Class-1 than RandomForestClassifier."
      ]
    },
    {
      "cell_type": "markdown",
      "id": "095caa24",
      "metadata": {
        "id": "095caa24"
      },
      "source": [
        "### Feature Importance for the best model so far in Random Forest Model"
      ]
    },
    {
      "cell_type": "code",
      "execution_count": 59,
      "id": "90bc50d9",
      "metadata": {
        "id": "90bc50d9",
        "outputId": "cc31fa93-34db-404d-ec2f-d4f3a667472a"
      },
      "outputs": [
        {
          "name": "stdout",
          "output_type": "stream",
          "text": [
            "Score of RandomForestClassifier:  0.8071278825995807\n"
          ]
        }
      ],
      "source": [
        "rfc = RandomForestClassifier(max_depth = 4, n_estimators= 50, class_weight=\"balanced\")\n",
        "\n",
        "rfc.fit(X_train, y_train)\n",
        "\n",
        "print(\"Score of RandomForestClassifier: \", rfc.score(X_test, y_test))"
      ]
    },
    {
      "cell_type": "code",
      "execution_count": 60,
      "id": "7c0dbc60",
      "metadata": {
        "id": "7c0dbc60"
      },
      "outputs": [],
      "source": [
        "importances = rfc.feature_importances_\n",
        "\n",
        "std = np.std([tree.feature_importances_ for tree in rfc.estimators_], axis=0)"
      ]
    },
    {
      "cell_type": "code",
      "execution_count": 61,
      "id": "c83aa445",
      "metadata": {
        "id": "c83aa445",
        "outputId": "97fd4a3e-9c7c-43a3-9af2-d3edffd51a76"
      },
      "outputs": [
        {
          "data": {
            "text/html": [
              "<div>\n",
              "<style scoped>\n",
              "    .dataframe tbody tr th:only-of-type {\n",
              "        vertical-align: middle;\n",
              "    }\n",
              "\n",
              "    .dataframe tbody tr th {\n",
              "        vertical-align: top;\n",
              "    }\n",
              "\n",
              "    .dataframe thead th {\n",
              "        text-align: right;\n",
              "    }\n",
              "</style>\n",
              "<table border=\"1\" class=\"dataframe\">\n",
              "  <thead>\n",
              "    <tr style=\"text-align: right;\">\n",
              "      <th></th>\n",
              "      <th>0</th>\n",
              "      <th>1</th>\n",
              "    </tr>\n",
              "  </thead>\n",
              "  <tbody>\n",
              "    <tr>\n",
              "      <th>7</th>\n",
              "      <td>Last_Quarterly_Rating</td>\n",
              "      <td>0.317244</td>\n",
              "    </tr>\n",
              "    <tr>\n",
              "      <th>8</th>\n",
              "      <td>Quarterly_Rating_Increased</td>\n",
              "      <td>0.246168</td>\n",
              "    </tr>\n",
              "    <tr>\n",
              "      <th>6</th>\n",
              "      <td>Total_Business_Value</td>\n",
              "      <td>0.227734</td>\n",
              "    </tr>\n",
              "    <tr>\n",
              "      <th>5</th>\n",
              "      <td>Grade</td>\n",
              "      <td>0.121791</td>\n",
              "    </tr>\n",
              "    <tr>\n",
              "      <th>3</th>\n",
              "      <td>Income</td>\n",
              "      <td>0.088803</td>\n",
              "    </tr>\n",
              "    <tr>\n",
              "      <th>4</th>\n",
              "      <td>Joining_Designation</td>\n",
              "      <td>0.068832</td>\n",
              "    </tr>\n",
              "    <tr>\n",
              "      <th>9</th>\n",
              "      <td>Salary_Increased</td>\n",
              "      <td>0.045822</td>\n",
              "    </tr>\n",
              "    <tr>\n",
              "      <th>0</th>\n",
              "      <td>Age</td>\n",
              "      <td>0.025654</td>\n",
              "    </tr>\n",
              "    <tr>\n",
              "      <th>1</th>\n",
              "      <td>Gender</td>\n",
              "      <td>0.012534</td>\n",
              "    </tr>\n",
              "    <tr>\n",
              "      <th>31</th>\n",
              "      <td>City_C29</td>\n",
              "      <td>0.011061</td>\n",
              "    </tr>\n",
              "    <tr>\n",
              "      <th>22</th>\n",
              "      <td>City_C20</td>\n",
              "      <td>0.010789</td>\n",
              "    </tr>\n",
              "    <tr>\n",
              "      <th>25</th>\n",
              "      <td>City_C23</td>\n",
              "      <td>0.010207</td>\n",
              "    </tr>\n",
              "    <tr>\n",
              "      <th>20</th>\n",
              "      <td>City_C19</td>\n",
              "      <td>0.009154</td>\n",
              "    </tr>\n",
              "    <tr>\n",
              "      <th>14</th>\n",
              "      <td>City_C13</td>\n",
              "      <td>0.007701</td>\n",
              "    </tr>\n",
              "    <tr>\n",
              "      <th>16</th>\n",
              "      <td>City_C15</td>\n",
              "      <td>0.006909</td>\n",
              "    </tr>\n",
              "    <tr>\n",
              "      <th>36</th>\n",
              "      <td>City_C7</td>\n",
              "      <td>0.006803</td>\n",
              "    </tr>\n",
              "    <tr>\n",
              "      <th>15</th>\n",
              "      <td>City_C14</td>\n",
              "      <td>0.006615</td>\n",
              "    </tr>\n",
              "    <tr>\n",
              "      <th>38</th>\n",
              "      <td>City_C9</td>\n",
              "      <td>0.006533</td>\n",
              "    </tr>\n",
              "    <tr>\n",
              "      <th>18</th>\n",
              "      <td>City_C17</td>\n",
              "      <td>0.006435</td>\n",
              "    </tr>\n",
              "    <tr>\n",
              "      <th>37</th>\n",
              "      <td>City_C8</td>\n",
              "      <td>0.006412</td>\n",
              "    </tr>\n",
              "    <tr>\n",
              "      <th>19</th>\n",
              "      <td>City_C18</td>\n",
              "      <td>0.005289</td>\n",
              "    </tr>\n",
              "    <tr>\n",
              "      <th>21</th>\n",
              "      <td>City_C2</td>\n",
              "      <td>0.005152</td>\n",
              "    </tr>\n",
              "    <tr>\n",
              "      <th>29</th>\n",
              "      <td>City_C27</td>\n",
              "      <td>0.005080</td>\n",
              "    </tr>\n",
              "    <tr>\n",
              "      <th>11</th>\n",
              "      <td>City_C10</td>\n",
              "      <td>0.004717</td>\n",
              "    </tr>\n",
              "    <tr>\n",
              "      <th>2</th>\n",
              "      <td>Education</td>\n",
              "      <td>0.004488</td>\n",
              "    </tr>\n",
              "    <tr>\n",
              "      <th>30</th>\n",
              "      <td>City_C28</td>\n",
              "      <td>0.003904</td>\n",
              "    </tr>\n",
              "    <tr>\n",
              "      <th>27</th>\n",
              "      <td>City_C25</td>\n",
              "      <td>0.003763</td>\n",
              "    </tr>\n",
              "    <tr>\n",
              "      <th>26</th>\n",
              "      <td>City_C24</td>\n",
              "      <td>0.003661</td>\n",
              "    </tr>\n",
              "    <tr>\n",
              "      <th>23</th>\n",
              "      <td>City_C21</td>\n",
              "      <td>0.003540</td>\n",
              "    </tr>\n",
              "    <tr>\n",
              "      <th>35</th>\n",
              "      <td>City_C6</td>\n",
              "      <td>0.003322</td>\n",
              "    </tr>\n",
              "    <tr>\n",
              "      <th>13</th>\n",
              "      <td>City_C12</td>\n",
              "      <td>0.003310</td>\n",
              "    </tr>\n",
              "    <tr>\n",
              "      <th>28</th>\n",
              "      <td>City_C26</td>\n",
              "      <td>0.002504</td>\n",
              "    </tr>\n",
              "    <tr>\n",
              "      <th>24</th>\n",
              "      <td>City_C22</td>\n",
              "      <td>0.002421</td>\n",
              "    </tr>\n",
              "    <tr>\n",
              "      <th>17</th>\n",
              "      <td>City_C16</td>\n",
              "      <td>0.002390</td>\n",
              "    </tr>\n",
              "    <tr>\n",
              "      <th>33</th>\n",
              "      <td>City_C4</td>\n",
              "      <td>0.001924</td>\n",
              "    </tr>\n",
              "    <tr>\n",
              "      <th>32</th>\n",
              "      <td>City_C3</td>\n",
              "      <td>0.001328</td>\n",
              "    </tr>\n",
              "    <tr>\n",
              "      <th>34</th>\n",
              "      <td>City_C5</td>\n",
              "      <td>0.001244</td>\n",
              "    </tr>\n",
              "    <tr>\n",
              "      <th>10</th>\n",
              "      <td>City_C1</td>\n",
              "      <td>0.000453</td>\n",
              "    </tr>\n",
              "    <tr>\n",
              "      <th>12</th>\n",
              "      <td>City_C11</td>\n",
              "      <td>0.000198</td>\n",
              "    </tr>\n",
              "  </tbody>\n",
              "</table>\n",
              "</div>"
            ],
            "text/plain": [
              "                             0         1\n",
              "7        Last_Quarterly_Rating  0.317244\n",
              "8   Quarterly_Rating_Increased  0.246168\n",
              "6         Total_Business_Value  0.227734\n",
              "5                        Grade  0.121791\n",
              "3                       Income  0.088803\n",
              "4          Joining_Designation  0.068832\n",
              "9             Salary_Increased  0.045822\n",
              "0                          Age  0.025654\n",
              "1                       Gender  0.012534\n",
              "31                    City_C29  0.011061\n",
              "22                    City_C20  0.010789\n",
              "25                    City_C23  0.010207\n",
              "20                    City_C19  0.009154\n",
              "14                    City_C13  0.007701\n",
              "16                    City_C15  0.006909\n",
              "36                     City_C7  0.006803\n",
              "15                    City_C14  0.006615\n",
              "38                     City_C9  0.006533\n",
              "18                    City_C17  0.006435\n",
              "37                     City_C8  0.006412\n",
              "19                    City_C18  0.005289\n",
              "21                     City_C2  0.005152\n",
              "29                    City_C27  0.005080\n",
              "11                    City_C10  0.004717\n",
              "2                    Education  0.004488\n",
              "30                    City_C28  0.003904\n",
              "27                    City_C25  0.003763\n",
              "26                    City_C24  0.003661\n",
              "23                    City_C21  0.003540\n",
              "35                     City_C6  0.003322\n",
              "13                    City_C12  0.003310\n",
              "28                    City_C26  0.002504\n",
              "24                    City_C22  0.002421\n",
              "17                    City_C16  0.002390\n",
              "33                     City_C4  0.001924\n",
              "32                     City_C3  0.001328\n",
              "34                     City_C5  0.001244\n",
              "10                     City_C1  0.000453\n",
              "12                    City_C11  0.000198"
            ]
          },
          "execution_count": 61,
          "metadata": {},
          "output_type": "execute_result"
        }
      ],
      "source": [
        "pd.DataFrame(zip(X.columns,std)).sort_values(by=[1], ascending=False)"
      ]
    },
    {
      "cell_type": "code",
      "execution_count": 62,
      "id": "b2b3ffe4",
      "metadata": {
        "id": "b2b3ffe4",
        "outputId": "43ca3992-421c-45b2-8341-07a0a1a0037e"
      },
      "outputs": [
        {
          "data": {
            "text/html": [
              "<div>\n",
              "<style scoped>\n",
              "    .dataframe tbody tr th:only-of-type {\n",
              "        vertical-align: middle;\n",
              "    }\n",
              "\n",
              "    .dataframe tbody tr th {\n",
              "        vertical-align: top;\n",
              "    }\n",
              "\n",
              "    .dataframe thead th {\n",
              "        text-align: right;\n",
              "    }\n",
              "</style>\n",
              "<table border=\"1\" class=\"dataframe\">\n",
              "  <thead>\n",
              "    <tr style=\"text-align: right;\">\n",
              "      <th></th>\n",
              "      <th>0</th>\n",
              "      <th>1</th>\n",
              "    </tr>\n",
              "  </thead>\n",
              "  <tbody>\n",
              "    <tr>\n",
              "      <th>7</th>\n",
              "      <td>Last_Quarterly_Rating</td>\n",
              "      <td>0.288029</td>\n",
              "    </tr>\n",
              "    <tr>\n",
              "      <th>8</th>\n",
              "      <td>Quarterly_Rating_Increased</td>\n",
              "      <td>0.232580</td>\n",
              "    </tr>\n",
              "    <tr>\n",
              "      <th>6</th>\n",
              "      <td>Total_Business_Value</td>\n",
              "      <td>0.206716</td>\n",
              "    </tr>\n",
              "    <tr>\n",
              "      <th>5</th>\n",
              "      <td>Grade</td>\n",
              "      <td>0.076744</td>\n",
              "    </tr>\n",
              "    <tr>\n",
              "      <th>3</th>\n",
              "      <td>Income</td>\n",
              "      <td>0.058603</td>\n",
              "    </tr>\n",
              "    <tr>\n",
              "      <th>4</th>\n",
              "      <td>Joining_Designation</td>\n",
              "      <td>0.038970</td>\n",
              "    </tr>\n",
              "    <tr>\n",
              "      <th>9</th>\n",
              "      <td>Salary_Increased</td>\n",
              "      <td>0.027818</td>\n",
              "    </tr>\n",
              "    <tr>\n",
              "      <th>0</th>\n",
              "      <td>Age</td>\n",
              "      <td>0.021855</td>\n",
              "    </tr>\n",
              "    <tr>\n",
              "      <th>20</th>\n",
              "      <td>City_C19</td>\n",
              "      <td>0.003693</td>\n",
              "    </tr>\n",
              "    <tr>\n",
              "      <th>1</th>\n",
              "      <td>Gender</td>\n",
              "      <td>0.003560</td>\n",
              "    </tr>\n",
              "    <tr>\n",
              "      <th>25</th>\n",
              "      <td>City_C23</td>\n",
              "      <td>0.003332</td>\n",
              "    </tr>\n",
              "    <tr>\n",
              "      <th>14</th>\n",
              "      <td>City_C13</td>\n",
              "      <td>0.003287</td>\n",
              "    </tr>\n",
              "    <tr>\n",
              "      <th>31</th>\n",
              "      <td>City_C29</td>\n",
              "      <td>0.003129</td>\n",
              "    </tr>\n",
              "    <tr>\n",
              "      <th>22</th>\n",
              "      <td>City_C20</td>\n",
              "      <td>0.002984</td>\n",
              "    </tr>\n",
              "    <tr>\n",
              "      <th>15</th>\n",
              "      <td>City_C14</td>\n",
              "      <td>0.002485</td>\n",
              "    </tr>\n",
              "    <tr>\n",
              "      <th>2</th>\n",
              "      <td>Education</td>\n",
              "      <td>0.002465</td>\n",
              "    </tr>\n",
              "    <tr>\n",
              "      <th>36</th>\n",
              "      <td>City_C7</td>\n",
              "      <td>0.002369</td>\n",
              "    </tr>\n",
              "    <tr>\n",
              "      <th>18</th>\n",
              "      <td>City_C17</td>\n",
              "      <td>0.001869</td>\n",
              "    </tr>\n",
              "    <tr>\n",
              "      <th>21</th>\n",
              "      <td>City_C2</td>\n",
              "      <td>0.001686</td>\n",
              "    </tr>\n",
              "    <tr>\n",
              "      <th>38</th>\n",
              "      <td>City_C9</td>\n",
              "      <td>0.001538</td>\n",
              "    </tr>\n",
              "    <tr>\n",
              "      <th>37</th>\n",
              "      <td>City_C8</td>\n",
              "      <td>0.001535</td>\n",
              "    </tr>\n",
              "    <tr>\n",
              "      <th>29</th>\n",
              "      <td>City_C27</td>\n",
              "      <td>0.001522</td>\n",
              "    </tr>\n",
              "    <tr>\n",
              "      <th>19</th>\n",
              "      <td>City_C18</td>\n",
              "      <td>0.001506</td>\n",
              "    </tr>\n",
              "    <tr>\n",
              "      <th>11</th>\n",
              "      <td>City_C10</td>\n",
              "      <td>0.001426</td>\n",
              "    </tr>\n",
              "    <tr>\n",
              "      <th>16</th>\n",
              "      <td>City_C15</td>\n",
              "      <td>0.001232</td>\n",
              "    </tr>\n",
              "    <tr>\n",
              "      <th>30</th>\n",
              "      <td>City_C28</td>\n",
              "      <td>0.001195</td>\n",
              "    </tr>\n",
              "    <tr>\n",
              "      <th>27</th>\n",
              "      <td>City_C25</td>\n",
              "      <td>0.001192</td>\n",
              "    </tr>\n",
              "    <tr>\n",
              "      <th>35</th>\n",
              "      <td>City_C6</td>\n",
              "      <td>0.000925</td>\n",
              "    </tr>\n",
              "    <tr>\n",
              "      <th>23</th>\n",
              "      <td>City_C21</td>\n",
              "      <td>0.000912</td>\n",
              "    </tr>\n",
              "    <tr>\n",
              "      <th>17</th>\n",
              "      <td>City_C16</td>\n",
              "      <td>0.000871</td>\n",
              "    </tr>\n",
              "    <tr>\n",
              "      <th>26</th>\n",
              "      <td>City_C24</td>\n",
              "      <td>0.000819</td>\n",
              "    </tr>\n",
              "    <tr>\n",
              "      <th>28</th>\n",
              "      <td>City_C26</td>\n",
              "      <td>0.000786</td>\n",
              "    </tr>\n",
              "    <tr>\n",
              "      <th>13</th>\n",
              "      <td>City_C12</td>\n",
              "      <td>0.000785</td>\n",
              "    </tr>\n",
              "    <tr>\n",
              "      <th>24</th>\n",
              "      <td>City_C22</td>\n",
              "      <td>0.000613</td>\n",
              "    </tr>\n",
              "    <tr>\n",
              "      <th>33</th>\n",
              "      <td>City_C4</td>\n",
              "      <td>0.000457</td>\n",
              "    </tr>\n",
              "    <tr>\n",
              "      <th>34</th>\n",
              "      <td>City_C5</td>\n",
              "      <td>0.000227</td>\n",
              "    </tr>\n",
              "    <tr>\n",
              "      <th>32</th>\n",
              "      <td>City_C3</td>\n",
              "      <td>0.000190</td>\n",
              "    </tr>\n",
              "    <tr>\n",
              "      <th>10</th>\n",
              "      <td>City_C1</td>\n",
              "      <td>0.000065</td>\n",
              "    </tr>\n",
              "    <tr>\n",
              "      <th>12</th>\n",
              "      <td>City_C11</td>\n",
              "      <td>0.000028</td>\n",
              "    </tr>\n",
              "  </tbody>\n",
              "</table>\n",
              "</div>"
            ],
            "text/plain": [
              "                             0         1\n",
              "7        Last_Quarterly_Rating  0.288029\n",
              "8   Quarterly_Rating_Increased  0.232580\n",
              "6         Total_Business_Value  0.206716\n",
              "5                        Grade  0.076744\n",
              "3                       Income  0.058603\n",
              "4          Joining_Designation  0.038970\n",
              "9             Salary_Increased  0.027818\n",
              "0                          Age  0.021855\n",
              "20                    City_C19  0.003693\n",
              "1                       Gender  0.003560\n",
              "25                    City_C23  0.003332\n",
              "14                    City_C13  0.003287\n",
              "31                    City_C29  0.003129\n",
              "22                    City_C20  0.002984\n",
              "15                    City_C14  0.002485\n",
              "2                    Education  0.002465\n",
              "36                     City_C7  0.002369\n",
              "18                    City_C17  0.001869\n",
              "21                     City_C2  0.001686\n",
              "38                     City_C9  0.001538\n",
              "37                     City_C8  0.001535\n",
              "29                    City_C27  0.001522\n",
              "19                    City_C18  0.001506\n",
              "11                    City_C10  0.001426\n",
              "16                    City_C15  0.001232\n",
              "30                    City_C28  0.001195\n",
              "27                    City_C25  0.001192\n",
              "35                     City_C6  0.000925\n",
              "23                    City_C21  0.000912\n",
              "17                    City_C16  0.000871\n",
              "26                    City_C24  0.000819\n",
              "28                    City_C26  0.000786\n",
              "13                    City_C12  0.000785\n",
              "24                    City_C22  0.000613\n",
              "33                     City_C4  0.000457\n",
              "34                     City_C5  0.000227\n",
              "32                     City_C3  0.000190\n",
              "10                     City_C1  0.000065\n",
              "12                    City_C11  0.000028"
            ]
          },
          "execution_count": 62,
          "metadata": {},
          "output_type": "execute_result"
        }
      ],
      "source": [
        "f_imp_df = pd.DataFrame(zip(X.columns,importances)).sort_values(by=[1], ascending=False)\n",
        "f_imp_df"
      ]
    },
    {
      "cell_type": "code",
      "execution_count": 63,
      "id": "317d847a",
      "metadata": {
        "id": "317d847a",
        "outputId": "2b321607-de87-48a0-8049-ca0015f09f72"
      },
      "outputs": [
        {
          "data": {
            "text/plain": [
              "<Axes: xlabel='1', ylabel='0'>"
            ]
          },
          "execution_count": 63,
          "metadata": {},
          "output_type": "execute_result"
        },
        {
          "data": {
            "image/png": "[encoded data removed]",
            "text/plain": [
              "<Figure size 640x480 with 1 Axes>"
            ]
          },
          "metadata": {},
          "output_type": "display_data"
        }
      ],
      "source": [
        "sns.barplot(data=f_imp_df.head(10),x=1,y=0)"
      ]
    },
    {
      "cell_type": "markdown",
      "id": "b4f5c577",
      "metadata": {
        "id": "b4f5c577"
      },
      "source": [
        "- Last_Quarterly_Rating,Total_Business_Value and Quarterly_Rating_Increased are the most important features."
      ]
    },
    {
      "cell_type": "markdown",
      "id": "5c870ed4",
      "metadata": {
        "id": "5c870ed4"
      },
      "source": [
        "## Recommendations"
      ]
    },
    {
      "cell_type": "markdown",
      "id": "8cc7ba13",
      "metadata": {
        "id": "8cc7ba13"
      },
      "source": [
        "- Overall, the employees with following profiles are more likely to leave the organization:\n",
        "  * Lower Last_Quarterly Rating\n",
        "  * Total business value lesser than 44,00,000\n",
        "  * Drivers with both Quarterly Rating not improved and no salary increment.\n",
        "  * Lower income (less than 70000) Joining Designation of 1 or 5 and Lower Grade\n",
        "  * Young Age group people (Age of 21-30)\n",
        "  \n",
        " *The guidelines for securing good rating,improving Business value and grade shall be provided to drivers at time of joining  the organization.The periodical surveys shall be done to get their opinion on working and issues if any are facing in following guidelines.\n",
        "\n",
        "- Since, the Driver Retention is the primary objective,the model should be able to correctly identify the drivers/employees who  are leaving the organization.Hence,Recall shall be primary focus to retain drivers.\n",
        "\n",
        "- Recall of class-0 i.e. the employees working in organization is low which implies model unable to predict correctly drivers working in organization.This might be due to unbalance which shall be rectifed by collecting data of those who have not left the organization.\n",
        "\n",
        "- The Cities description shall be more detailed with their full names and states inorder to understand the effect of region on churn rate of drivers.\n",
        "\n",
        "- Additional features such as Customer_Rating, Reviews in form of customer satisfaction surveys shall be collected.\n",
        "\n",
        "- Feedback shall be taken from drivers who left the organization regarding company working environment and other growth factors which aid in providing to existing employees those things to retain them."
      ]
    },
    {
      "cell_type": "code",
      "execution_count": null,
      "id": "dfee9bdf",
      "metadata": {
        "id": "dfee9bdf"
      },
      "outputs": [],
      "source": []
    }
  ],
  "metadata": {
    "colab": {
      "provenance": []
    },
    "kernelspec": {
      "display_name": "Python 3 (ipykernel)",
      "language": "python",
      "name": "python3"
    },
    "language_info": {
      "codemirror_mode": {
        "name": "ipython",
        "version": 3
      },
      "file_extension": ".py",
      "mimetype": "text/x-python",
      "name": "python",
      "nbconvert_exporter": "python",
      "pygments_lexer": "ipython3",
      "version": "3.8.19"
    }
  },
  "nbformat": 4,
  "nbformat_minor": 5
}
